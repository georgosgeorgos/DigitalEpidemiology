{
 "cells": [
  {
   "cell_type": "markdown",
   "metadata": {},
   "source": [
    "## PREDICTION\n",
    "### data description:\n",
    "* 160 features extracted from Google trends\n",
    "* *year* and *state_id* feature that let us take advantage of time and location of the state\n",
    "* *latitude* and *longitude* features that we are able to use to specify geographical position more explicitly\n",
    "* *income* and *employment* from US Census Bureau\n",
    "* percentage of people without health insurance\n",
    "* two target values: *crude prevalence*, *age-adjusted prevalence*\n",
    "\n",
    "### model selection:\n",
    "**Elastic net:** Giving the way we selected features the obtained matrix has a lot of redundant information. Hence, in order to prevent overfitting, we were forced to choose a model with some regulation components. The most popular of them are Ridge and Lasso regression or elastic net technique which is a linear regression with combined L1 and L2 priors as regularizers.\n",
    "\n",
    "With Elastic net we could also use Elastic net  mixing parameter, with $0 <= l1ratio <= 1$. \n",
    "* For $l1ratio = 0$ the penalty is an $L2$ penalty\n",
    "* For $l1ratio = 1$ it is an $L1$ penalty\n",
    "* For $0 < l1ratio < 1$, the penalty is a combination of $L1$ and $L2$\n",
    "### temporal cross-validation\n",
    "For temporal cross validation we were picking each year and treated the corresponding data as a test set and the rest of the data as a train data.\n",
    "### spatial cross-validation\n",
    "For spacial cross-validation we were randomely choosing a group of states and used them as a test set and the rest of the dataset as a train set.\n",
    "### general cross-validation \n",
    "In order to make sure that our result isn't biased in any way we made function *try_model()* which performs following steps:\n",
    "1. it separates 20 % of the data as a test set\n",
    "2. does greed search on the train set in order to choose proper alpha (penalty term) and l1 (mixing parameter) and verifies it with 3-folds cross-validation\n",
    "3. reports the $R^2$ of the test set\n",
    "4. repeats steps 1-3 several time in order to give information about the variability of the result\n"
   ]
  },
  {
   "cell_type": "code",
   "execution_count": 1,
   "metadata": {
    "collapsed": false
   },
   "outputs": [],
   "source": [
    "%matplotlib inline  \n",
    "import matplotlib.pyplot as plt\n",
    "import pandas as pd\n",
    "import numpy as np\n",
    "import random\n",
    "import nltk\n",
    "from sklearn.model_selection import train_test_split\n",
    "from sklearn.model_selection import cross_val_score\n",
    "from sklearn.preprocessing import StandardScaler, RobustScaler\n",
    "from sklearn.model_selection import GridSearchCV\n",
    "from sklearn.linear_model import ElasticNet\n",
    "from scipy import stats\n",
    "from collections import Counter"
   ]
  },
  {
   "cell_type": "code",
   "execution_count": 99,
   "metadata": {
    "collapsed": false
   },
   "outputs": [],
   "source": [
    "def routine_grid(model, parameters, X_train,y_train,X_test,y_test):\n",
    "    grid = GridSearchCV(model, parameters, scoring=\"r2\", cv=3)\n",
    "    grid.fit(X_train,y_train)\n",
    "    \n",
    "    model = grid.best_estimator_\n",
    "    model.fit(X_train, y_train)  \n",
    "    train_score = model.score(X_train,y_train)\n",
    "    test_score = model.score(X_test,y_test)\n",
    "    \n",
    "    return model, train_score, test_score\n",
    "\n",
    "def scorer(model, X, y):\n",
    "    e = 1 - np.sum( (model.predict(X) - y)**2) / np.sum((y.mean() - y)**2 )\n",
    "    return e\n",
    "\n",
    "def try_model(X,y,alphas,ls, iters = 15):\n",
    "    models = []\n",
    "    train_scores = []\n",
    "    test_scores =[]\n",
    "    for i in range(iters): \n",
    "        X_train, X_test, y_train, y_test = train_test_split(X, y, test_size=0.2, random_state=np.random.randint(1000))\n",
    "        #model = ElasticNet(random_state=0, fit_intercept = True, normalize = True, max_iter= 10000)\n",
    "        model = ElasticNet(random_state=0, max_iter= 100000)\n",
    "        par = {\"alpha\": alphas,\n",
    "                     \"l1_ratio\": ls }\n",
    "        model_best, best_score, test_score = routine_grid(model,par,X_train,y_train,X_test,y_test)\n",
    "        models.append(model_best)\n",
    "        train_scores.append(best_score)\n",
    "        test_scores.append(test_score)\n",
    "        print(test_score)\n",
    "    return(models, train_scores, test_scores)\n",
    "\n",
    "\n",
    "def try_model_space(matrix_df, X, alphas, ls, flag=\"c\", n=10, size=8):\n",
    "    models = []\n",
    "    train_scores = []\n",
    "    test_scores =[]\n",
    "    iters=matrix_df.index\n",
    "    for i in range(n):\n",
    "        cols=np.random.choice(iters, size=size, replace=False)\n",
    "        X_train=X.drop(cols, inplace=False)\n",
    "        if flag==\"c\":\n",
    "            y_train=matrix_df.drop(cols, inplace=False)[\"prevalence_c\"]\n",
    "        else:\n",
    "            y_train=matrix_df.drop(cols, inplace=False)[\"prevalence_a\"]\n",
    "\n",
    "        X_test=X.loc[cols]\n",
    "        if flag==\"c\":\n",
    "            y_test=matrix_df.loc[cols][\"prevalence_c\"]\n",
    "        else:\n",
    "            y_test=matrix_df.loc[cols][\"prevalence_a\"]\n",
    "        #model = ElasticNet(random_state=0, fit_intercept = True, normalize = True, max_iter= 10000)\n",
    "        #print(y_test.index, X_test.index)\n",
    "        scaler = StandardScaler() #standardize features by removing the mean and scaling to unit variance\n",
    "        X_train=scaler.fit_transform(X_train)\n",
    "        X_test = scaler.transform(X_test)\n",
    "        model = ElasticNet(random_state=0, max_iter= 100000)\n",
    "        par = {\"alpha\": alphas,\n",
    "                     \"l1_ratio\": ls }\n",
    "        model_best, best_score, test_score = routine_grid(model,par,X_train,y_train,X_test,y_test)\n",
    "        models.append(model_best)\n",
    "        train_scores.append(best_score)\n",
    "        test_scores.append(test_score)\n",
    "        print(cols, test_score)\n",
    "    return(models, train_scores, test_scores)\n",
    "\n",
    "def try_model_time(matrix_df, X, alphas, ls, flag=\"c\"):\n",
    "    models = []\n",
    "    train_scores = []\n",
    "    test_scores =[]\n",
    "    iters=[2011, 2012, 2013, 2014, 2015, 2016]\n",
    "    for i in iters:\n",
    "        X_train=pd.DataFrame()\n",
    "        y_train=pd.DataFrame()\n",
    "        for j in iters:\n",
    "            if j != i:\n",
    "                X_temp=X[X[\"year\"]==j]\n",
    "                if flag==\"c\":\n",
    "                    y_temp=matrix_df[matrix_df[\"year\"]==j][\"prevalence_c\"]\n",
    "                else:\n",
    "                    y_temp=matrix_df[matrix_df[\"year\"]==j][\"prevalence_a\"]\n",
    "                X_train=pd.concat([X_train, X_temp], axis=0)\n",
    "                y_train=pd.concat([y_train, y_temp], axis=0)\n",
    "\n",
    "        X_test=X[X[\"year\"]==i]\n",
    "        if flag == \"c\":\n",
    "            y_test=matrix_df[matrix_df[\"year\"]==i][\"prevalence_c\"]\n",
    "        else:\n",
    "            y_test=matrix_df[matrix_df[\"year\"]==i][\"prevalence_a\"]\n",
    "        #labels = X.columns\n",
    "        scaler = StandardScaler() #standardize features by removing the mean and scaling to unit variance\n",
    "        X_train=scaler.fit_transform(X_train)\n",
    "        X_test = scaler.transform(X_test)\n",
    "        model = ElasticNet(random_state=0, max_iter= 100000)\n",
    "        par = {\"alpha\": alphas,\n",
    "                     \"l1_ratio\": ls }\n",
    "        model_best, best_score, test_score = routine_grid(model,par,X_train,y_train,X_test,y_test)\n",
    "        models.append(model_best)\n",
    "        train_scores.append(best_score)\n",
    "        test_scores.append(test_score)\n",
    "        print(i, test_score)\n",
    "    return(models, train_scores, test_scores)\n",
    "\n",
    "def show_coefs(model,X):\n",
    "    plt.figure(figsize=(20,10))\n",
    "    coef = pd.Series(model.coef_, index = X.columns).sort_values()\n",
    "    imp_coef = pd.concat([coef.head(10), coef.tail(10)])\n",
    "    imp_coef.plot(kind = \"barh\")\n",
    "    plt.title(\"Coefficients in the Model\")\n",
    "    plt.show()"
   ]
  },
  {
   "cell_type": "code",
   "execution_count": 3,
   "metadata": {
    "collapsed": false
   },
   "outputs": [
    {
     "data": {
      "text/plain": [
       "(306, 163)"
      ]
     },
     "execution_count": 3,
     "metadata": {},
     "output_type": "execute_result"
    }
   ],
   "source": [
    "matrix_df=pd.read_csv(\"../data/matrix/matrix_df_163.csv\", index_col=0)\n",
    "matrix_df = matrix_df.fillna(matrix_df.mean())\n",
    "results = dict()\n",
    "matrix_df.shape"
   ]
  },
  {
   "cell_type": "markdown",
   "metadata": {},
   "source": [
    "## 2.1 spatial and temporal cross-validation"
   ]
  },
  {
   "cell_type": "code",
   "execution_count": 4,
   "metadata": {
    "collapsed": false
   },
   "outputs": [],
   "source": [
    "y_a = matrix_df[\"prevalence_a\"]\n",
    "y_c = matrix_df[\"prevalence_c\"]\n",
    "X = matrix_df.drop([\"prevalence_a\",\"prevalence_c\",\"income\",\"insurance\", \"unemployment\"], axis =1)\n"
   ]
  },
  {
   "cell_type": "markdown",
   "metadata": {},
   "source": [
    "### spatial cross-validation for crude prevalence"
   ]
  },
  {
   "cell_type": "code",
   "execution_count": 22,
   "metadata": {
    "collapsed": false,
    "scrolled": true
   },
   "outputs": [
    {
     "name": "stdout",
     "output_type": "stream",
     "text": [
      "['West Virginia' 'New Mexico' 'Alabama' 'New Jersey' 'Nebraska' 'Illinois'\n",
      " 'Ohio' 'Maryland' 'Oregon' 'Arizona'] 0.357747912834\n",
      "['South Dakota' 'Idaho' 'Rhode Island' 'Kentucky' 'Oregon' 'Georgia'\n",
      " 'Texas' 'Connecticut' 'West Virginia' 'Texas'] 0.609187920746\n",
      "['South Carolina' 'Mississippi' 'Colorado' 'North Dakota' 'Arizona'\n",
      " 'Oklahoma' 'Georgia' 'Montana' 'New Mexico' 'Indiana'] 0.2631174643\n",
      "['Pennsylvania' 'Rhode Island' 'Maryland' 'Vermont' 'Alabama' 'Minnesota'\n",
      " 'Louisiana' 'Delaware' 'Indiana' 'Georgia'] 0.599752004041\n",
      "['New Jersey' 'Indiana' 'Vermont' 'Kentucky' 'Michigan' 'South Carolina'\n",
      " 'Florida' 'New York' 'Vermont' 'West Virginia'] 0.738213198339\n",
      "['Montana' 'Mississippi' 'New Hampshire' 'Utah' 'Nevada' 'New Mexico'\n",
      " 'Kansas' 'Texas' 'North Carolina' 'Tennessee'] 0.289706417047\n",
      "['Oregon' 'Wisconsin' 'Louisiana' 'California' 'Alabama' 'Idaho'\n",
      " 'New Mexico' 'North Dakota' 'Delaware' 'Missouri'] 0.334028083633\n",
      "['Mississippi' 'Delaware' 'Arizona' 'Alabama' 'West Virginia' 'Arizona'\n",
      " 'Oklahoma' 'New York' 'Wyoming' 'New Hampshire'] 0.659224919532\n",
      "['Michigan' 'Wisconsin' 'Utah' 'New Mexico' 'Delaware' 'New Hampshire'\n",
      " 'Louisiana' 'Pennsylvania' 'Ohio' 'Oregon'] -0.27373905303\n",
      "['Washington' 'Ohio' 'Maine' 'Colorado' 'California' 'Maryland'\n",
      " 'Massachusetts' 'Nebraska' 'Maryland' 'Virginia'] 0.661629728089\n"
     ]
    }
   ],
   "source": [
    "alphas = np.array([0.0001,  0.001,  0.01 ,  0.1, 1.0,1.5,2])\n",
    "ls = np.arange(0.1, 1.1, 1.0)\n",
    "\n",
    "models_c_space, train_scores_c_space, test_scores_c_space = try_model_space(matrix_df, X, alphas,ls, flag=\"c\", size=10)    "
   ]
  },
  {
   "cell_type": "code",
   "execution_count": 25,
   "metadata": {
    "collapsed": false,
    "scrolled": true
   },
   "outputs": [
    {
     "data": {
      "text/plain": [
       "[ElasticNet(alpha=1.0, copy_X=True, fit_intercept=True,\n",
       "       l1_ratio=0.10000000000000001, max_iter=100000, normalize=False,\n",
       "       positive=False, precompute=False, random_state=0, selection='cyclic',\n",
       "       tol=0.0001, warm_start=False),\n",
       " ElasticNet(alpha=0.10000000000000001, copy_X=True, fit_intercept=True,\n",
       "       l1_ratio=0.10000000000000001, max_iter=100000, normalize=False,\n",
       "       positive=False, precompute=False, random_state=0, selection='cyclic',\n",
       "       tol=0.0001, warm_start=False),\n",
       " ElasticNet(alpha=1.0, copy_X=True, fit_intercept=True,\n",
       "       l1_ratio=0.10000000000000001, max_iter=100000, normalize=False,\n",
       "       positive=False, precompute=False, random_state=0, selection='cyclic',\n",
       "       tol=0.0001, warm_start=False),\n",
       " ElasticNet(alpha=1.0, copy_X=True, fit_intercept=True,\n",
       "       l1_ratio=0.10000000000000001, max_iter=100000, normalize=False,\n",
       "       positive=False, precompute=False, random_state=0, selection='cyclic',\n",
       "       tol=0.0001, warm_start=False),\n",
       " ElasticNet(alpha=1.0, copy_X=True, fit_intercept=True,\n",
       "       l1_ratio=0.10000000000000001, max_iter=100000, normalize=False,\n",
       "       positive=False, precompute=False, random_state=0, selection='cyclic',\n",
       "       tol=0.0001, warm_start=False),\n",
       " ElasticNet(alpha=1.0, copy_X=True, fit_intercept=True,\n",
       "       l1_ratio=0.10000000000000001, max_iter=100000, normalize=False,\n",
       "       positive=False, precompute=False, random_state=0, selection='cyclic',\n",
       "       tol=0.0001, warm_start=False),\n",
       " ElasticNet(alpha=1.0, copy_X=True, fit_intercept=True,\n",
       "       l1_ratio=0.10000000000000001, max_iter=100000, normalize=False,\n",
       "       positive=False, precompute=False, random_state=0, selection='cyclic',\n",
       "       tol=0.0001, warm_start=False),\n",
       " ElasticNet(alpha=1.0, copy_X=True, fit_intercept=True,\n",
       "       l1_ratio=0.10000000000000001, max_iter=100000, normalize=False,\n",
       "       positive=False, precompute=False, random_state=0, selection='cyclic',\n",
       "       tol=0.0001, warm_start=False),\n",
       " ElasticNet(alpha=1.0, copy_X=True, fit_intercept=True,\n",
       "       l1_ratio=0.10000000000000001, max_iter=100000, normalize=False,\n",
       "       positive=False, precompute=False, random_state=0, selection='cyclic',\n",
       "       tol=0.0001, warm_start=False),\n",
       " ElasticNet(alpha=1.0, copy_X=True, fit_intercept=True,\n",
       "       l1_ratio=0.10000000000000001, max_iter=100000, normalize=False,\n",
       "       positive=False, precompute=False, random_state=0, selection='cyclic',\n",
       "       tol=0.0001, warm_start=False)]"
      ]
     },
     "execution_count": 25,
     "metadata": {},
     "output_type": "execute_result"
    }
   ],
   "source": [
    "models_c_space"
   ]
  },
  {
   "cell_type": "code",
   "execution_count": 24,
   "metadata": {
    "collapsed": false
   },
   "outputs": [
    {
     "data": {
      "text/plain": [
       "[0.72273305902444851,\n",
       " 0.89878253463445978,\n",
       " 0.77026961802237004,\n",
       " 0.74379890798834714,\n",
       " 0.72969826189527986,\n",
       " 0.76661586256056846,\n",
       " 0.75316908128133342,\n",
       " 0.74620351244904448,\n",
       " 0.76900198936672592,\n",
       " 0.73242456737922712]"
      ]
     },
     "execution_count": 24,
     "metadata": {},
     "output_type": "execute_result"
    }
   ],
   "source": [
    "train_scores_c_space"
   ]
  },
  {
   "cell_type": "code",
   "execution_count": 23,
   "metadata": {
    "collapsed": false
   },
   "outputs": [
    {
     "data": {
      "text/plain": [
       "0.42388685955312333"
      ]
     },
     "execution_count": 23,
     "metadata": {},
     "output_type": "execute_result"
    }
   ],
   "source": [
    "np.mean(test_scores_c_space)"
   ]
  },
  {
   "cell_type": "markdown",
   "metadata": {},
   "source": [
    "### spatial cross-validation for age-adjasted prevalence"
   ]
  },
  {
   "cell_type": "code",
   "execution_count": 41,
   "metadata": {
    "collapsed": false,
    "scrolled": true
   },
   "outputs": [
    {
     "name": "stdout",
     "output_type": "stream",
     "text": [
      "['Texas' 'Texas' 'West Virginia' 'North Dakota' 'Texas' 'Tennessee'\n",
      " 'New Jersey' 'Georgia' 'South Carolina' 'Vermont'] 0.784515974418\n",
      "['Texas' 'Idaho' 'Mississippi' 'District of Columbia' 'Maine' 'Montana'\n",
      " 'Wyoming' 'North Dakota' 'Arkansas' 'Utah'] 0.35733612456\n",
      "['Kansas' 'Mississippi' 'California' 'Ohio' 'Idaho' 'New Mexico' 'Maryland'\n",
      " 'Kansas' 'Georgia' 'Pennsylvania'] 0.0288470573477\n",
      "['Washington' 'Alabama' 'Rhode Island' 'West Virginia' 'New York'\n",
      " 'Tennessee' 'Nevada' 'Florida' 'Delaware' 'New Jersey'] 0.731421208073\n",
      "['Connecticut' 'Florida' 'Nebraska' 'South Dakota' 'California' 'Missouri'\n",
      " 'New Mexico' 'North Dakota' 'District of Columbia' 'New Mexico'] 0.0284286977638\n",
      "['Tennessee' 'District of Columbia' 'Missouri' 'Illinois' 'Connecticut'\n",
      " 'Hawaii' 'Alaska' 'Nebraska' 'North Dakota' 'Oklahoma'] 0.392455464146\n",
      "['Illinois' 'Nevada' 'Kansas' 'Georgia' 'Vermont' 'New Hampshire'\n",
      " 'North Dakota' 'North Carolina' 'Indiana' 'Rhode Island'] 0.380865160914\n",
      "['North Dakota' 'Wyoming' 'Mississippi' 'Rhode Island' 'New York'\n",
      " 'California' 'District of Columbia' 'New Hampshire' 'Wyoming' 'Missouri'] 0.266911846302\n",
      "['Connecticut' 'Iowa' 'Mississippi' 'Virginia' 'California' 'Hawaii' 'Ohio'\n",
      " 'Nebraska' 'Colorado' 'Arizona'] 0.432654081395\n",
      "['Wyoming' 'Washington' 'Massachusetts' 'New Jersey' 'Delaware'\n",
      " 'California' 'Michigan' 'Connecticut' 'New Jersey' 'Connecticut'] 0.543608078301\n"
     ]
    }
   ],
   "source": [
    "alphas = np.array([0.0001,  0.001,  0.01 ,  0.1, 1.0,1.5,2])\n",
    "ls = np.arange(0.1, 1, 1.0)\n",
    "\n",
    "models_a_space, train_scores_a_space, test_scores_a_space = try_model_space(matrix_df, X, alphas,ls, flag=\"a\", size=10)  "
   ]
  },
  {
   "cell_type": "code",
   "execution_count": 42,
   "metadata": {
    "collapsed": false
   },
   "outputs": [
    {
     "data": {
      "text/plain": [
       "[ElasticNet(alpha=1.0, copy_X=True, fit_intercept=True,\n",
       "       l1_ratio=0.10000000000000001, max_iter=100000, normalize=False,\n",
       "       positive=False, precompute=False, random_state=0, selection='cyclic',\n",
       "       tol=0.0001, warm_start=False),\n",
       " ElasticNet(alpha=1.0, copy_X=True, fit_intercept=True,\n",
       "       l1_ratio=0.10000000000000001, max_iter=100000, normalize=False,\n",
       "       positive=False, precompute=False, random_state=0, selection='cyclic',\n",
       "       tol=0.0001, warm_start=False),\n",
       " ElasticNet(alpha=0.10000000000000001, copy_X=True, fit_intercept=True,\n",
       "       l1_ratio=0.10000000000000001, max_iter=100000, normalize=False,\n",
       "       positive=False, precompute=False, random_state=0, selection='cyclic',\n",
       "       tol=0.0001, warm_start=False),\n",
       " ElasticNet(alpha=1.0, copy_X=True, fit_intercept=True,\n",
       "       l1_ratio=0.10000000000000001, max_iter=100000, normalize=False,\n",
       "       positive=False, precompute=False, random_state=0, selection='cyclic',\n",
       "       tol=0.0001, warm_start=False),\n",
       " ElasticNet(alpha=0.10000000000000001, copy_X=True, fit_intercept=True,\n",
       "       l1_ratio=0.10000000000000001, max_iter=100000, normalize=False,\n",
       "       positive=False, precompute=False, random_state=0, selection='cyclic',\n",
       "       tol=0.0001, warm_start=False),\n",
       " ElasticNet(alpha=1.0, copy_X=True, fit_intercept=True,\n",
       "       l1_ratio=0.10000000000000001, max_iter=100000, normalize=False,\n",
       "       positive=False, precompute=False, random_state=0, selection='cyclic',\n",
       "       tol=0.0001, warm_start=False),\n",
       " ElasticNet(alpha=0.10000000000000001, copy_X=True, fit_intercept=True,\n",
       "       l1_ratio=0.10000000000000001, max_iter=100000, normalize=False,\n",
       "       positive=False, precompute=False, random_state=0, selection='cyclic',\n",
       "       tol=0.0001, warm_start=False),\n",
       " ElasticNet(alpha=0.10000000000000001, copy_X=True, fit_intercept=True,\n",
       "       l1_ratio=0.10000000000000001, max_iter=100000, normalize=False,\n",
       "       positive=False, precompute=False, random_state=0, selection='cyclic',\n",
       "       tol=0.0001, warm_start=False),\n",
       " ElasticNet(alpha=1.0, copy_X=True, fit_intercept=True,\n",
       "       l1_ratio=0.10000000000000001, max_iter=100000, normalize=False,\n",
       "       positive=False, precompute=False, random_state=0, selection='cyclic',\n",
       "       tol=0.0001, warm_start=False),\n",
       " ElasticNet(alpha=1.0, copy_X=True, fit_intercept=True,\n",
       "       l1_ratio=0.10000000000000001, max_iter=100000, normalize=False,\n",
       "       positive=False, precompute=False, random_state=0, selection='cyclic',\n",
       "       tol=0.0001, warm_start=False)]"
      ]
     },
     "execution_count": 42,
     "metadata": {},
     "output_type": "execute_result"
    }
   ],
   "source": [
    "models_a_space"
   ]
  },
  {
   "cell_type": "code",
   "execution_count": 43,
   "metadata": {
    "collapsed": false
   },
   "outputs": [
    {
     "data": {
      "text/plain": [
       "[0.71597839139898689,\n",
       " 0.77931664034017722,\n",
       " 0.91423685328160709,\n",
       " 0.72862557290526975,\n",
       " 0.9071162190835832,\n",
       " 0.75724227644925812,\n",
       " 0.91323941801642183,\n",
       " 0.90799525485692512,\n",
       " 0.73107264127955673,\n",
       " 0.74774358550477538]"
      ]
     },
     "execution_count": 43,
     "metadata": {},
     "output_type": "execute_result"
    }
   ],
   "source": [
    "train_scores_a_space"
   ]
  },
  {
   "cell_type": "code",
   "execution_count": 44,
   "metadata": {
    "collapsed": false
   },
   "outputs": [
    {
     "data": {
      "text/plain": [
       "0.39470436932217606"
      ]
     },
     "execution_count": 44,
     "metadata": {},
     "output_type": "execute_result"
    }
   ],
   "source": [
    "np.mean(test_scores_a_space)"
   ]
  },
  {
   "cell_type": "markdown",
   "metadata": {},
   "source": [
    "## temporal cross-validation for crude prevalence"
   ]
  },
  {
   "cell_type": "code",
   "execution_count": 46,
   "metadata": {
    "collapsed": false
   },
   "outputs": [
    {
     "name": "stdout",
     "output_type": "stream",
     "text": [
      "2011 0.708306694421\n",
      "2012 0.764374226512\n",
      "2013 0.716638151965\n",
      "2014 0.83764587023\n",
      "2015 0.85930710834\n",
      "2016 0.603970307626\n"
     ]
    }
   ],
   "source": [
    "alphas = np.array([0.0001,  0.001,  0.01 ,  0.1, 1.0])\n",
    "ls = np.arange(0.1, 1.1, 0.1)\n",
    "\n",
    "models_c_time, train_scores_c_time, test_scores_c_time = try_model_time(matrix_df, X, alphas,ls, flag=\"c\")    "
   ]
  },
  {
   "cell_type": "code",
   "execution_count": 47,
   "metadata": {
    "collapsed": false
   },
   "outputs": [
    {
     "data": {
      "text/plain": [
       "[ElasticNet(alpha=0.10000000000000001, copy_X=True, fit_intercept=True,\n",
       "       l1_ratio=0.10000000000000001, max_iter=100000, normalize=False,\n",
       "       positive=False, precompute=False, random_state=0, selection='cyclic',\n",
       "       tol=0.0001, warm_start=False),\n",
       " ElasticNet(alpha=0.10000000000000001, copy_X=True, fit_intercept=True,\n",
       "       l1_ratio=0.59999999999999998, max_iter=100000, normalize=False,\n",
       "       positive=False, precompute=False, random_state=0, selection='cyclic',\n",
       "       tol=0.0001, warm_start=False),\n",
       " ElasticNet(alpha=0.10000000000000001, copy_X=True, fit_intercept=True,\n",
       "       l1_ratio=0.40000000000000002, max_iter=100000, normalize=False,\n",
       "       positive=False, precompute=False, random_state=0, selection='cyclic',\n",
       "       tol=0.0001, warm_start=False),\n",
       " ElasticNet(alpha=0.10000000000000001, copy_X=True, fit_intercept=True,\n",
       "       l1_ratio=0.20000000000000001, max_iter=100000, normalize=False,\n",
       "       positive=False, precompute=False, random_state=0, selection='cyclic',\n",
       "       tol=0.0001, warm_start=False),\n",
       " ElasticNet(alpha=0.10000000000000001, copy_X=True, fit_intercept=True,\n",
       "       l1_ratio=0.20000000000000001, max_iter=100000, normalize=False,\n",
       "       positive=False, precompute=False, random_state=0, selection='cyclic',\n",
       "       tol=0.0001, warm_start=False),\n",
       " ElasticNet(alpha=0.10000000000000001, copy_X=True, fit_intercept=True,\n",
       "       l1_ratio=0.5, max_iter=100000, normalize=False, positive=False,\n",
       "       precompute=False, random_state=0, selection='cyclic', tol=0.0001,\n",
       "       warm_start=False)]"
      ]
     },
     "execution_count": 47,
     "metadata": {},
     "output_type": "execute_result"
    }
   ],
   "source": [
    "models_c_time"
   ]
  },
  {
   "cell_type": "code",
   "execution_count": 48,
   "metadata": {
    "collapsed": false
   },
   "outputs": [
    {
     "data": {
      "text/plain": [
       "[0.90516831426656408,\n",
       " 0.84229839245733462,\n",
       " 0.87086277134912282,\n",
       " 0.88102817858590832,\n",
       " 0.87978092347258197,\n",
       " 0.8629377037468815]"
      ]
     },
     "execution_count": 48,
     "metadata": {},
     "output_type": "execute_result"
    }
   ],
   "source": [
    "train_scores_c_time"
   ]
  },
  {
   "cell_type": "code",
   "execution_count": 49,
   "metadata": {
    "collapsed": false
   },
   "outputs": [
    {
     "data": {
      "text/plain": [
       "[0.70830669442100436,\n",
       " 0.76437422651170694,\n",
       " 0.71663815196526892,\n",
       " 0.83764587022998449,\n",
       " 0.85930710834010293,\n",
       " 0.60397030762586512]"
      ]
     },
     "execution_count": 49,
     "metadata": {},
     "output_type": "execute_result"
    }
   ],
   "source": [
    "test_scores_c_time"
   ]
  },
  {
   "cell_type": "markdown",
   "metadata": {},
   "source": [
    "## temporal cross-validation for age-adjusted prevalence"
   ]
  },
  {
   "cell_type": "code",
   "execution_count": 51,
   "metadata": {
    "collapsed": false
   },
   "outputs": [
    {
     "name": "stdout",
     "output_type": "stream",
     "text": [
      "2011 0.707682759187\n",
      "2012 0.795053997426\n",
      "2013 0.724190785778\n",
      "2014 0.833628494348\n",
      "2015 0.856335505098\n",
      "2016 0.628122433732\n"
     ]
    }
   ],
   "source": [
    "alphas = np.array([0.0001,  0.001,  0.01 ,  0.1, 1.0])\n",
    "ls = np.arange(0.1, 1.1, 0.1)\n",
    "\n",
    "models_a_time, train_scores_a_time, test_scores_a_time = try_model_time(matrix_df, X, alphas, ls, flag=\"a\")  "
   ]
  },
  {
   "cell_type": "code",
   "execution_count": 52,
   "metadata": {
    "collapsed": false
   },
   "outputs": [
    {
     "data": {
      "text/plain": [
       "[ElasticNet(alpha=0.10000000000000001, copy_X=True, fit_intercept=True,\n",
       "       l1_ratio=0.10000000000000001, max_iter=100000, normalize=False,\n",
       "       positive=False, precompute=False, random_state=0, selection='cyclic',\n",
       "       tol=0.0001, warm_start=False),\n",
       " ElasticNet(alpha=0.10000000000000001, copy_X=True, fit_intercept=True,\n",
       "       l1_ratio=0.30000000000000004, max_iter=100000, normalize=False,\n",
       "       positive=False, precompute=False, random_state=0, selection='cyclic',\n",
       "       tol=0.0001, warm_start=False),\n",
       " ElasticNet(alpha=0.10000000000000001, copy_X=True, fit_intercept=True,\n",
       "       l1_ratio=0.5, max_iter=100000, normalize=False, positive=False,\n",
       "       precompute=False, random_state=0, selection='cyclic', tol=0.0001,\n",
       "       warm_start=False),\n",
       " ElasticNet(alpha=0.10000000000000001, copy_X=True, fit_intercept=True,\n",
       "       l1_ratio=0.30000000000000004, max_iter=100000, normalize=False,\n",
       "       positive=False, precompute=False, random_state=0, selection='cyclic',\n",
       "       tol=0.0001, warm_start=False),\n",
       " ElasticNet(alpha=0.10000000000000001, copy_X=True, fit_intercept=True,\n",
       "       l1_ratio=0.20000000000000001, max_iter=100000, normalize=False,\n",
       "       positive=False, precompute=False, random_state=0, selection='cyclic',\n",
       "       tol=0.0001, warm_start=False),\n",
       " ElasticNet(alpha=0.10000000000000001, copy_X=True, fit_intercept=True,\n",
       "       l1_ratio=0.59999999999999998, max_iter=100000, normalize=False,\n",
       "       positive=False, precompute=False, random_state=0, selection='cyclic',\n",
       "       tol=0.0001, warm_start=False)]"
      ]
     },
     "execution_count": 52,
     "metadata": {},
     "output_type": "execute_result"
    }
   ],
   "source": [
    "models_a_time"
   ]
  },
  {
   "cell_type": "code",
   "execution_count": 53,
   "metadata": {
    "collapsed": false
   },
   "outputs": [
    {
     "data": {
      "text/plain": [
       "[0.90647632869295192,\n",
       " 0.86852112574046836,\n",
       " 0.865728988518909,\n",
       " 0.8728210749818075,\n",
       " 0.88160986483073678,\n",
       " 0.85546859197798952]"
      ]
     },
     "execution_count": 53,
     "metadata": {},
     "output_type": "execute_result"
    }
   ],
   "source": [
    "train_scores_a_time"
   ]
  },
  {
   "cell_type": "code",
   "execution_count": 54,
   "metadata": {
    "collapsed": false
   },
   "outputs": [
    {
     "data": {
      "text/plain": [
       "[0.70768275918660439,\n",
       " 0.79505399742649141,\n",
       " 0.72419078577766971,\n",
       " 0.83362849434812825,\n",
       " 0.85633550509813805,\n",
       " 0.62812243373157095]"
      ]
     },
     "execution_count": 54,
     "metadata": {},
     "output_type": "execute_result"
    }
   ],
   "source": [
    "test_scores_a_time"
   ]
  },
  {
   "cell_type": "markdown",
   "metadata": {},
   "source": [
    "As we see temporal cross validation works much better, while prediction for a group of states doesn't seem reliable. We believe that the reason for this is that we don't have very similar states and hense it's complicates to make a decent prediction: "
   ]
  },
  {
   "cell_type": "code",
   "execution_count": 74,
   "metadata": {
    "collapsed": false
   },
   "outputs": [
    {
     "data": {
      "image/png": "[encoded data removed]",
      "text/plain": [
       "<matplotlib.figure.Figure at 0x1232ed940>"
      ]
     },
     "metadata": {},
     "output_type": "display_data"
    }
   ],
   "source": [
    "from scipy.cluster.hierarchy import dendrogram, linkage\n",
    "Z = linkage(X[X[\"year\"]==2016], 'ward')\n",
    "\n",
    "plt.figure(figsize=(25, 10))\n",
    "plt.title('Hierarchical Clustering Dendrogram')\n",
    "plt.xlabel('State')\n",
    "plt.xticks(np.arange(1,len(X.index)),list(X.index),rotation=45 )\n",
    "plt.ylabel('distance')\n",
    "dendrogram(\n",
    "    Z,\n",
    "    leaf_rotation=90.,  # rotates the x axis labels\n",
    "    leaf_font_size=8.,  # font size for the x axis labels\n",
    ")\n",
    "plt.show()"
   ]
  },
  {
   "cell_type": "markdown",
   "metadata": {},
   "source": [
    "## 2.2 \n",
    "Now we would like to switch to the whole dataset in order to see significants of the chosen features. \n",
    "Firstly we will performe analysis just for google trends data and then will add census features"
   ]
  },
  {
   "cell_type": "markdown",
   "metadata": {},
   "source": [
    "### Model for age-adjusted prevalence prediction"
   ]
  },
  {
   "cell_type": "code",
   "execution_count": 100,
   "metadata": {
    "collapsed": false
   },
   "outputs": [
    {
     "name": "stdout",
     "output_type": "stream",
     "text": [
      "0.72671804835\n",
      "0.657051865675\n",
      "0.758862162289\n",
      "0.745023410616\n",
      "0.797159162655\n",
      "0.795107894237\n",
      "0.72117502515\n",
      "0.793712839754\n",
      "0.745224696851\n",
      "0.770516190167\n",
      "0.742675913726\n",
      "0.730794005444\n",
      "0.827058735593\n",
      "0.774218354997\n",
      "0.809415391672\n"
     ]
    }
   ],
   "source": [
    "y_a = matrix_df[\"prevalence_a\"]\n",
    "y_c = matrix_df[\"prevalence_c\"]\n",
    "X = matrix_df.drop([\"prevalence_a\",\"prevalence_c\",\"income\",\"insurance\", \"unemployment\"], axis =1)\n",
    "labels = X.columns\n",
    "scaler = StandardScaler() #standardize features by removing the mean and scaling to unit variance\n",
    "scaler.fit(X)\n",
    "X = scaler.transform(X)\n",
    "X = pd.DataFrame(X)\n",
    "X.columns = labels\n",
    "\n",
    "alphas = np.array([0.01 ,0.1,0.3,0.5])\n",
    "ls = np.arange(0.1, 0.4, 0.1)\n",
    "\n",
    "models_a, train_scores_a, test_scores_a = try_model(X,y_a,alphas,ls, iters = 15)    \n"
   ]
  },
  {
   "cell_type": "code",
   "execution_count": 101,
   "metadata": {
    "collapsed": false
   },
   "outputs": [
    {
     "data": {
      "text/plain": [
       "0.75964757981184783"
      ]
     },
     "execution_count": 101,
     "metadata": {},
     "output_type": "execute_result"
    }
   ],
   "source": [
    "results[\"trends only for age-adj. prev.\"] = np.mean(test_scores_a)\n",
    "np.mean(test_scores_a)"
   ]
  },
  {
   "cell_type": "code",
   "execution_count": 102,
   "metadata": {
    "collapsed": true
   },
   "outputs": [],
   "source": [
    "data = Counter(models_a)\n",
    "model = data.most_common(1)[0][0]"
   ]
  },
  {
   "cell_type": "code",
   "execution_count": 103,
   "metadata": {
    "collapsed": false
   },
   "outputs": [
    {
     "data": {
      "text/plain": [
       "ElasticNet(alpha=0.10000000000000001, copy_X=True, fit_intercept=True,\n",
       "      l1_ratio=0.10000000000000001, max_iter=100000, normalize=False,\n",
       "      positive=False, precompute=False, random_state=0, selection='cyclic',\n",
       "      tol=0.0001, warm_start=False)"
      ]
     },
     "execution_count": 103,
     "metadata": {},
     "output_type": "execute_result"
    }
   ],
   "source": [
    "model"
   ]
  },
  {
   "cell_type": "markdown",
   "metadata": {},
   "source": [
    "Let's see what features were selected as the most relevant:"
   ]
  },
  {
   "cell_type": "code",
   "execution_count": 104,
   "metadata": {
    "collapsed": false
   },
   "outputs": [
    {
     "data": {
      "image/png": "[encoded data removed]",
      "text/plain": [
       "<matplotlib.figure.Figure at 0x11d552630>"
      ]
     },
     "metadata": {},
     "output_type": "display_data"
    }
   ],
   "source": [
    "show_coefs(model,X)"
   ]
  },
  {
   "cell_type": "markdown",
   "metadata": {},
   "source": [
    "The result seems meaningful: as features that correlate positively with depression, we can extract really straight connections. For instance, there are a lot of medicine related terms: doctor, prozac (antidepressant), trazodone (antidepressant), marijuana (used for depression treatment in some states) and so on.\n",
    "\n",
    "Also, we found interesting that term \"orem\" appeared to be meaningful. Orem is a city in Utah and Utah is one of the states with a very high level of depression according to ground truth data.\n",
    "\n",
    "Term \"robin\" seem meaningless in some sense, but in fact, it refers to a tragic story of comedian Robin Williams who commited suicide because of his depression in August 2014.\n",
    "\n",
    "In the down part of the plot, we are able to see many positive terms such as vitamin, friends, code, party. Probably, we can conclude from this that people who concerned about these terms don't seem to be interested in depression.\n"
   ]
  },
  {
   "cell_type": "markdown",
   "metadata": {},
   "source": [
    "### Model for crude prevalence prediction"
   ]
  },
  {
   "cell_type": "code",
   "execution_count": 106,
   "metadata": {
    "collapsed": false
   },
   "outputs": [
    {
     "name": "stdout",
     "output_type": "stream",
     "text": [
      "0.725381130799\n",
      "0.84672645374\n",
      "0.812874555183\n",
      "0.725659817394\n",
      "0.74120999942\n",
      "0.726459013239\n",
      "0.827559598017\n",
      "0.822879987836\n",
      "0.790336329277\n",
      "0.828525078694\n",
      "0.771614547062\n",
      "0.8130643463\n",
      "0.84146604384\n",
      "0.659491476427\n",
      "0.779261478922\n"
     ]
    }
   ],
   "source": [
    "models_c, train_scores_c, test_scores_c = try_model(X,y_c,alphas,ls, iters = 15)    "
   ]
  },
  {
   "cell_type": "code",
   "execution_count": 107,
   "metadata": {
    "collapsed": false
   },
   "outputs": [
    {
     "data": {
      "text/plain": [
       "0.78083399041009227"
      ]
     },
     "execution_count": 107,
     "metadata": {},
     "output_type": "execute_result"
    }
   ],
   "source": [
    "results[\"trends only for crude prev.\"] = np.mean(test_scores_c)\n",
    "np.mean(test_scores_c)"
   ]
  },
  {
   "cell_type": "code",
   "execution_count": 108,
   "metadata": {
    "collapsed": false
   },
   "outputs": [
    {
     "name": "stdout",
     "output_type": "stream",
     "text": [
      "ElasticNet(alpha=0.10000000000000001, copy_X=True, fit_intercept=True,\n",
      "      l1_ratio=0.20000000000000001, max_iter=100000, normalize=False,\n",
      "      positive=False, precompute=False, random_state=0, selection='cyclic',\n",
      "      tol=0.0001, warm_start=False)\n"
     ]
    }
   ],
   "source": [
    "data = Counter(models_c)\n",
    "model = data.most_common(1)[0][0]\n",
    "print(model)"
   ]
  },
  {
   "cell_type": "markdown",
   "metadata": {},
   "source": [
    "As we see, elastic search picked the same values for predicting crude prevalence and this makes sense since as we discovered before, the correlation between these two target features are almost 1."
   ]
  },
  {
   "cell_type": "code",
   "execution_count": 109,
   "metadata": {
    "collapsed": false
   },
   "outputs": [
    {
     "data": {
      "image/png": "[encoded data removed]",
      "text/plain": [
       "<matplotlib.figure.Figure at 0x119cbd6a0>"
      ]
     },
     "metadata": {},
     "output_type": "display_data"
    }
   ],
   "source": [
    "show_coefs(model,X)"
   ]
  },
  {
   "cell_type": "markdown",
   "metadata": {},
   "source": [
    "The results of the feature selection is more or less the same as for age-adjusted prevalence target value"
   ]
  },
  {
   "cell_type": "markdown",
   "metadata": {},
   "source": [
    "## 2.2 Google Trends + census features (income and employment) model"
   ]
  },
  {
   "cell_type": "markdown",
   "metadata": {},
   "source": [
    "### Model for age-adjusted prevalence prediction with census features"
   ]
  },
  {
   "cell_type": "code",
   "execution_count": 110,
   "metadata": {
    "collapsed": true
   },
   "outputs": [],
   "source": [
    "X = matrix_df.drop([\"prevalence_a\",\"prevalence_c\",\"insurance\"], axis =1)\n",
    "labels = X.columns\n",
    "scaler = StandardScaler()\n",
    "scaler.fit(X)\n",
    "X = scaler.transform(X)\n",
    "X = pd.DataFrame(X)\n",
    "X.columns = labels\n"
   ]
  },
  {
   "cell_type": "code",
   "execution_count": 111,
   "metadata": {
    "collapsed": false
   },
   "outputs": [
    {
     "name": "stdout",
     "output_type": "stream",
     "text": [
      "0.731832327482\n",
      "0.802021799434\n",
      "0.799860782349\n",
      "0.779956450306\n",
      "0.66129441033\n",
      "0.674742804492\n",
      "0.794036449741\n",
      "0.806366498011\n",
      "0.730969104398\n",
      "0.717605064342\n",
      "0.76552437181\n",
      "0.655645333716\n",
      "0.795920177355\n",
      "0.794036449741\n",
      "0.835173945055\n"
     ]
    }
   ],
   "source": [
    "models_a, train_scores_a, test_scores_a = try_model(X,y_a,alphas,ls, iters = 15) "
   ]
  },
  {
   "cell_type": "code",
   "execution_count": 112,
   "metadata": {
    "collapsed": false
   },
   "outputs": [
    {
     "data": {
      "text/plain": [
       "0.75633239790408247"
      ]
     },
     "execution_count": 112,
     "metadata": {},
     "output_type": "execute_result"
    }
   ],
   "source": [
    "results[\"trends + census data for age-adj. prev.\"] = np.mean(test_scores_a)\n",
    "np.mean(test_scores_a)"
   ]
  },
  {
   "cell_type": "code",
   "execution_count": 113,
   "metadata": {
    "collapsed": false
   },
   "outputs": [
    {
     "name": "stdout",
     "output_type": "stream",
     "text": [
      "ElasticNet(alpha=0.10000000000000001, copy_X=True, fit_intercept=True,\n",
      "      l1_ratio=0.20000000000000001, max_iter=100000, normalize=False,\n",
      "      positive=False, precompute=False, random_state=0, selection='cyclic',\n",
      "      tol=0.0001, warm_start=False)\n"
     ]
    }
   ],
   "source": [
    "data = Counter(models_a)\n",
    "model = data.most_common(1)[0][0]\n",
    "print(model)"
   ]
  },
  {
   "cell_type": "code",
   "execution_count": 114,
   "metadata": {
    "collapsed": false
   },
   "outputs": [
    {
     "data": {
      "image/png": "[encoded data removed]",
      "text/plain": [
       "<matplotlib.figure.Figure at 0x122bfa9b0>"
      ]
     },
     "metadata": {},
     "output_type": "display_data"
    }
   ],
   "source": [
    "show_coefs(model,X)"
   ]
  },
  {
   "cell_type": "markdown",
   "metadata": {},
   "source": [
    "As we see, \"income\" or \"emplyment\" were not chosen as a significant features."
   ]
  },
  {
   "cell_type": "markdown",
   "metadata": {},
   "source": [
    "### Model for crude prevalence prediction with census features"
   ]
  },
  {
   "cell_type": "code",
   "execution_count": 115,
   "metadata": {
    "collapsed": false
   },
   "outputs": [
    {
     "name": "stdout",
     "output_type": "stream",
     "text": [
      "0.766082831015\n",
      "0.636753706586\n",
      "0.709435487312\n",
      "0.757166722787\n",
      "0.812826233975\n",
      "0.849735639745\n",
      "0.776659947569\n",
      "0.788030399969\n",
      "0.740527800976\n",
      "0.835688537655\n",
      "0.793780584614\n",
      "0.662106567864\n",
      "0.714274496665\n",
      "0.792565420384\n",
      "0.686333187423\n"
     ]
    }
   ],
   "source": [
    "models_c, train_scores_c, test_scores_c = try_model(X,y_c,alphas,ls, iters = 15)  "
   ]
  },
  {
   "cell_type": "code",
   "execution_count": 116,
   "metadata": {
    "collapsed": false
   },
   "outputs": [
    {
     "data": {
      "text/plain": [
       "0.75479783763596897"
      ]
     },
     "execution_count": 116,
     "metadata": {},
     "output_type": "execute_result"
    }
   ],
   "source": [
    "results[\"trends + census data for crude prev.\"] = np.mean(test_scores_c)\n",
    "np.mean(test_scores_c)"
   ]
  },
  {
   "cell_type": "code",
   "execution_count": 117,
   "metadata": {
    "collapsed": false
   },
   "outputs": [
    {
     "data": {
      "image/png": "[encoded data removed]",
      "text/plain": [
       "<matplotlib.figure.Figure at 0x119ebe160>"
      ]
     },
     "metadata": {},
     "output_type": "display_data"
    }
   ],
   "source": [
    "data = Counter(models_c)\n",
    "model = data.most_common(1)[0][0]\n",
    "show_coefs(model,X)"
   ]
  },
  {
   "cell_type": "markdown",
   "metadata": {},
   "source": [
    "An interesting result that for crude prevalence a level of income appeared to be significant. This probably means that the most sensitive to depression group is less depended on the income, while in general, it's a significant factor.\n",
    "\n",
    "Although adding census features didn't improve the predictions and hence we assume that the level of income doesn't bring any new information comparing to those we extracted from Google Trends."
   ]
  },
  {
   "cell_type": "markdown",
   "metadata": {},
   "source": [
    "## 2.3 Google Trends + census features (income and employment) + insurance data model"
   ]
  },
  {
   "cell_type": "markdown",
   "metadata": {},
   "source": [
    "### Model for age-adjusted prevalence prediction with census features + insurance data"
   ]
  },
  {
   "cell_type": "code",
   "execution_count": 118,
   "metadata": {
    "collapsed": true
   },
   "outputs": [],
   "source": [
    "X = matrix_df.drop([\"prevalence_a\",\"prevalence_c\"], axis =1)\n",
    "labels = X.columns\n",
    "scaler = StandardScaler()\n",
    "scaler.fit(X)\n",
    "X = scaler.transform(X)\n",
    "X = pd.DataFrame(X)\n",
    "X.columns = labels"
   ]
  },
  {
   "cell_type": "code",
   "execution_count": 119,
   "metadata": {
    "collapsed": false
   },
   "outputs": [
    {
     "name": "stdout",
     "output_type": "stream",
     "text": [
      "0.722687620699\n",
      "0.8217331415\n",
      "0.754771077628\n",
      "0.695009349262\n",
      "0.757112309227\n",
      "0.782366976266\n",
      "0.837026618165\n",
      "0.726132088546\n",
      "0.745066663402\n",
      "0.816809882372\n",
      "0.808017369231\n",
      "0.700517165542\n",
      "0.835727890697\n",
      "0.722941786029\n",
      "0.827571974449\n"
     ]
    }
   ],
   "source": [
    "\n",
    "models_a, train_scores_a, test_scores_a = try_model(X,y_a,alphas,ls, iters = 15) "
   ]
  },
  {
   "cell_type": "code",
   "execution_count": 120,
   "metadata": {
    "collapsed": false
   },
   "outputs": [
    {
     "data": {
      "text/plain": [
       "0.77023279420097235"
      ]
     },
     "execution_count": 120,
     "metadata": {},
     "output_type": "execute_result"
    }
   ],
   "source": [
    "results[\"trends + census data + insurance data for age-adj. prev.\"] = np.mean(test_scores_a)\n",
    "np.mean(test_scores_a)"
   ]
  },
  {
   "cell_type": "code",
   "execution_count": 121,
   "metadata": {
    "collapsed": false
   },
   "outputs": [
    {
     "name": "stdout",
     "output_type": "stream",
     "text": [
      "ElasticNet(alpha=0.10000000000000001, copy_X=True, fit_intercept=True,\n",
      "      l1_ratio=0.30000000000000004, max_iter=100000, normalize=False,\n",
      "      positive=False, precompute=False, random_state=0, selection='cyclic',\n",
      "      tol=0.0001, warm_start=False)\n"
     ]
    }
   ],
   "source": [
    "data = Counter(models_a)\n",
    "model = data.most_common(1)[0][0]\n",
    "print(model)"
   ]
  },
  {
   "cell_type": "code",
   "execution_count": 122,
   "metadata": {
    "collapsed": false
   },
   "outputs": [
    {
     "data": {
      "image/png": "[encoded data removed]",
      "text/plain": [
       "<matplotlib.figure.Figure at 0x122835438>"
      ]
     },
     "metadata": {},
     "output_type": "display_data"
    }
   ],
   "source": [
    "show_coefs(model,X)"
   ]
  },
  {
   "cell_type": "markdown",
   "metadata": {},
   "source": [
    "Insurance information doesn't seem significant or improving our prediction. \n",
    "\n",
    "But this time we see \"income\" as a significant feature for age-adjusted prevalence. We need to take into account that elastic net has randomness inside and hence the choice of features that have the same explanatory weight might be different."
   ]
  },
  {
   "cell_type": "markdown",
   "metadata": {},
   "source": [
    "### Model for crude prevalence prediction with census features + insurance data"
   ]
  },
  {
   "cell_type": "code",
   "execution_count": 123,
   "metadata": {
    "collapsed": false
   },
   "outputs": [
    {
     "name": "stdout",
     "output_type": "stream",
     "text": [
      "0.788809910628\n",
      "0.835601127585\n",
      "0.850309133824\n",
      "0.827700757966\n",
      "0.788030478885\n",
      "0.768398719684\n",
      "0.827386076379\n",
      "0.740823923312\n",
      "0.715469211934\n",
      "0.741974194118\n",
      "0.717871305938\n",
      "0.809081743639\n",
      "0.82869304308\n",
      "0.739221035282\n",
      "0.729879806661\n"
     ]
    }
   ],
   "source": [
    "\n",
    "models_c, train_scores_c, test_scores_c = try_model(X,y_c,alphas,ls, iters = 15) "
   ]
  },
  {
   "cell_type": "code",
   "execution_count": 124,
   "metadata": {
    "collapsed": false
   },
   "outputs": [
    {
     "data": {
      "text/plain": [
       "0.78061669792765942"
      ]
     },
     "execution_count": 124,
     "metadata": {},
     "output_type": "execute_result"
    }
   ],
   "source": [
    "results[\"trends + census data + insurance data for crude prev.\"] = np.mean(test_scores_c)\n",
    "np.mean(test_scores_c)"
   ]
  },
  {
   "cell_type": "code",
   "execution_count": 125,
   "metadata": {
    "collapsed": false
   },
   "outputs": [
    {
     "name": "stdout",
     "output_type": "stream",
     "text": [
      "ElasticNet(alpha=0.10000000000000001, copy_X=True, fit_intercept=True,\n",
      "      l1_ratio=0.30000000000000004, max_iter=100000, normalize=False,\n",
      "      positive=False, precompute=False, random_state=0, selection='cyclic',\n",
      "      tol=0.0001, warm_start=False)\n"
     ]
    }
   ],
   "source": [
    "data = Counter(models_c)\n",
    "model = data.most_common(1)[0][0]\n",
    "print(model)"
   ]
  },
  {
   "cell_type": "code",
   "execution_count": 126,
   "metadata": {
    "collapsed": false
   },
   "outputs": [
    {
     "data": {
      "image/png": "[encoded data removed]",
      "text/plain": [
       "<matplotlib.figure.Figure at 0x122c0a4e0>"
      ]
     },
     "metadata": {},
     "output_type": "display_data"
    }
   ],
   "source": [
    "show_coefs(model,X)"
   ]
  },
  {
   "cell_type": "markdown",
   "metadata": {},
   "source": [
    "This result is similar to the one we had with census data without insurance feature. For crude prevalence prediction insurance coverage doesn't appear to be meaningful giving information we've obtained with Google Trends"
   ]
  },
  {
   "cell_type": "markdown",
   "metadata": {},
   "source": [
    "### Final results:"
   ]
  },
  {
   "cell_type": "code",
   "execution_count": 127,
   "metadata": {
    "collapsed": false
   },
   "outputs": [
    {
     "data": {
      "text/html": [
       "<div>\n",
       "<table border=\"1\" class=\"dataframe\">\n",
       "  <thead>\n",
       "    <tr style=\"text-align: right;\">\n",
       "      <th></th>\n",
       "      <th>r2</th>\n",
       "    </tr>\n",
       "  </thead>\n",
       "  <tbody>\n",
       "    <tr>\n",
       "      <th>trends + census data for age-adj. prev.</th>\n",
       "      <td>0.756332</td>\n",
       "    </tr>\n",
       "    <tr>\n",
       "      <th>trends only for crude prev.</th>\n",
       "      <td>0.780834</td>\n",
       "    </tr>\n",
       "    <tr>\n",
       "      <th>trends + census data + insurance data for crude prev.</th>\n",
       "      <td>0.780617</td>\n",
       "    </tr>\n",
       "    <tr>\n",
       "      <th>trends + census data + insurance data for age-adj. prev.</th>\n",
       "      <td>0.770233</td>\n",
       "    </tr>\n",
       "    <tr>\n",
       "      <th>trends only for age-adj. prev.</th>\n",
       "      <td>0.759648</td>\n",
       "    </tr>\n",
       "    <tr>\n",
       "      <th>trends + census data for crude prev.</th>\n",
       "      <td>0.754798</td>\n",
       "    </tr>\n",
       "  </tbody>\n",
       "</table>\n",
       "</div>"
      ],
      "text/plain": [
       "                                                          r2\n",
       "trends + census data for age-adj. prev.             0.756332\n",
       "trends only for crude prev.                         0.780834\n",
       "trends + census data + insurance data for crude...  0.780617\n",
       "trends + census data + insurance data for age-a...  0.770233\n",
       "trends only for age-adj. prev.                      0.759648\n",
       "trends + census data for crude prev.                0.754798"
      ]
     },
     "execution_count": 127,
     "metadata": {},
     "output_type": "execute_result"
    }
   ],
   "source": [
    "res  = pd.DataFrame.from_dict(results,orient = \"index\")\n",
    "res.columns = [\"r2\"]\n",
    "res"
   ]
  },
  {
   "cell_type": "markdown",
   "metadata": {},
   "source": [
    "Even though the scores are not exactly equal, we should take into account that difference in 0.03-0.04 cannot be statistically significant.\n",
    "\n",
    "Thus, we conclude that neither census data nor insurance data didn't improve the prediction result due to the fact that this information was already included in some of the features we've extracted from Google trends.\n",
    "\n",
    "But, if we had a limitation on a possible number of features we could use for our research we would include information about income since it is correlated with the target features and appeared to be significant."
   ]
  },
  {
   "cell_type": "code",
   "execution_count": null,
   "metadata": {
    "collapsed": true
   },
   "outputs": [],
   "source": []
  }
 ],
 "metadata": {
  "anaconda-cloud": {},
  "kernelspec": {
   "display_name": "Python [default]",
   "language": "python",
   "name": "python3"
  },
  "language_info": {
   "codemirror_mode": {
    "name": "ipython",
    "version": 3
   },
   "file_extension": ".py",
   "mimetype": "text/x-python",
   "name": "python",
   "nbconvert_exporter": "python",
   "pygments_lexer": "ipython3",
   "version": "3.5.4"
  }
 },
 "nbformat": 4,
 "nbformat_minor": 1
}
