{
 "cells": [
  {
   "cell_type": "code",
   "execution_count": 23,
   "metadata": {
    "collapsed": false
   },
   "outputs": [],
   "source": [
    "%matplotlib inline  \n",
    "from pytrends.request import TrendReq\n",
    "from bs4 import BeautifulSoup as bs\n",
    "import matplotlib.pyplot as plt\n",
    "from queue import Queue\n",
    "import seaborn as sns\n",
    "import pandas as pd\n",
    "import numpy as np\n",
    "import pytrends\n",
    "import requests\n",
    "import vincent\n",
    "import random\n",
    "import spacy\n",
    "import json\n",
    "import time\n",
    "import nltk"
   ]
  },
  {
   "cell_type": "code",
   "execution_count": 24,
   "metadata": {
    "collapsed": true
   },
   "outputs": [],
   "source": [
    "from sklearn import linear_model as lm\n",
    "from sklearn.model_selection import train_test_split\n",
    "from sklearn.model_selection import cross_val_score\n",
    "from sklearn.preprocessing import StandardScaler, RobustScaler\n",
    "from sklearn.model_selection import GridSearchCV"
   ]
  },
  {
   "cell_type": "markdown",
   "metadata": {},
   "source": [
    "# the goal of this project is to build a predictive model for depression using google trends data"
   ]
  },
  {
   "cell_type": "markdown",
   "metadata": {},
   "source": [
    "## build ground truth for depression"
   ]
  },
  {
   "cell_type": "code",
   "execution_count": 25,
   "metadata": {
    "collapsed": true
   },
   "outputs": [],
   "source": [
    "def build_groud_truth(flag=\"c\"):\n",
    "    truth_2011 = pd.read_csv(\"../data/prevalence_\" + flag + \"/2011_\" + flag + \".csv\",sep = \";\")\n",
    "    truth_2012 = pd.read_csv(\"../data/prevalence_\" + flag + \"/2012_\" + flag + \".csv\",sep = \";\")\n",
    "    truth_2013 = pd.read_csv(\"../data/prevalence_\" + flag + \"/2013_\" + flag + \".csv\",sep = \";\")\n",
    "    truth_2014 = pd.read_csv(\"../data/prevalence_\" + flag + \"/2014_\" + flag + \".csv\",sep = \";\")\n",
    "    truth_2015 = pd.read_csv(\"../data/prevalence_\" + flag + \"/2015_\" + flag + \".csv\",sep = \";\")\n",
    "    truth_2016 = pd.read_csv(\"../data/prevalence_\" + flag + \"/2016_\" + flag + \".csv\",sep = \";\")\n",
    "    truth = pd.concat([truth_2011,truth_2012,truth_2013,truth_2014,truth_2015,truth_2016])\n",
    "    truth = truth[truth[\"Response\"] == \"Yes\"]\n",
    "    if flag == \"c\":\n",
    "        truth = truth.drop([0,2],axis = 0)\n",
    "    truth = truth[[\"LocationDesc\",\"Data_Value\",\"Year\"]]\n",
    "    return truth"
   ]
  },
  {
   "cell_type": "code",
   "execution_count": 26,
   "metadata": {
    "collapsed": true
   },
   "outputs": [],
   "source": [
    "def extract_prevalence(truth):\n",
    "    '''\n",
    "    clean ground truth\n",
    "    '''\n",
    "    y=[]\n",
    "    loc=truth[\"LocationDesc\"].values\n",
    "    prevs=truth[\"Data_Value\"].values\n",
    "    remove=set([\"Guam\", \"Puerto Rico\", \"Virgin Islands\"])\n",
    "    for i in range(len(loc)):\n",
    "        if loc[i] not in remove:\n",
    "            y.append(prevs[i])\n",
    "    return y"
   ]
  },
  {
   "cell_type": "code",
   "execution_count": 27,
   "metadata": {
    "collapsed": true
   },
   "outputs": [],
   "source": [
    "def build_index(truth):\n",
    "    loc=set(truth[\"LocationDesc\"].values)\n",
    "    r=set([\"Guam\", \"Puerto Rico\", \"Virgin Islands\"])\n",
    "    index=loc.difference(r)\n",
    "    index=sorted(index)\n",
    "    return index"
   ]
  },
  {
   "cell_type": "code",
   "execution_count": 28,
   "metadata": {
    "collapsed": true
   },
   "outputs": [],
   "source": [
    "years=[int(i) for i in range(2011,2017, 1)]"
   ]
  },
  {
   "cell_type": "markdown",
   "metadata": {},
   "source": [
    "### crude and age adjusted prevalence"
   ]
  },
  {
   "cell_type": "code",
   "execution_count": 29,
   "metadata": {
    "collapsed": false,
    "scrolled": true
   },
   "outputs": [],
   "source": [
    "truth_a=build_groud_truth(\"a\")\n",
    "truth_c=build_groud_truth(\"c\")"
   ]
  },
  {
   "cell_type": "code",
   "execution_count": 30,
   "metadata": {
    "collapsed": true
   },
   "outputs": [],
   "source": [
    "y_a=extract_prevalence(truth_a)\n",
    "y_c=extract_prevalence(truth_c)"
   ]
  },
  {
   "cell_type": "code",
   "execution_count": 31,
   "metadata": {
    "collapsed": true
   },
   "outputs": [],
   "source": [
    "index=build_index(truth_c)"
   ]
  },
  {
   "cell_type": "code",
   "execution_count": 32,
   "metadata": {
    "collapsed": false
   },
   "outputs": [
    {
     "data": {
      "text/plain": [
       "306"
      ]
     },
     "execution_count": 32,
     "metadata": {},
     "output_type": "execute_result"
    }
   ],
   "source": [
    "len(y_a)"
   ]
  },
  {
   "cell_type": "code",
   "execution_count": 33,
   "metadata": {
    "collapsed": false,
    "scrolled": true
   },
   "outputs": [
    {
     "data": {
      "text/plain": [
       "306"
      ]
     },
     "execution_count": 33,
     "metadata": {},
     "output_type": "execute_result"
    }
   ],
   "source": [
    "len(y_c)"
   ]
  },
  {
   "cell_type": "code",
   "execution_count": 34,
   "metadata": {
    "collapsed": true
   },
   "outputs": [],
   "source": [
    "def data_sample(truth, year):\n",
    "    '''\n",
    "    extract data for year\n",
    "    '''\n",
    "    data=truth[truth_c[\"Year\"]==year]\n",
    "    data_map = pd.DataFrame(data[\"Data_Value\"].values, columns=[\"Prevalence\"], index=None)\n",
    "    data_map[\"NAME\"] = data[\"LocationDesc\"].values\n",
    "    return data_map"
   ]
  },
  {
   "cell_type": "markdown",
   "metadata": {},
   "source": [
    "## draw a prevalence map"
   ]
  },
  {
   "cell_type": "code",
   "execution_count": 35,
   "metadata": {
    "collapsed": false,
    "scrolled": true
   },
   "outputs": [],
   "source": [
    "def draw_map(data_map, year, flag):\n",
    "    '''\n",
    "    draw maps of prevalence for different years\n",
    "    '''\n",
    "    vincent.core.initialize_notebook()\n",
    "    state_topo = \"https://raw.githubusercontent.com/wrobstory/vincent_map_data/master/us_states.topo.json\"\n",
    "    geo_data = [{'name': 'states',\n",
    "                 'url': state_topo,\n",
    "                 'feature': 'us_states.geo'}]\n",
    "\n",
    "    vis = vincent.Map(data=data_map, geo_data=geo_data, scale=1000,\n",
    "                      projection='albersUsa', data_bind='Prevalence', data_key='NAME',\n",
    "                      map_key={'states': 'properties.NAME'}, brew='YlGnBu')\n",
    "    #Custom threshold scale\n",
    "    vis.scales[0].type='threshold'\n",
    "    data_max=int(max(data_map[\"Prevalence\"].values))\n",
    "    data_min=int(min(data_map[\"Prevalence\"].values))\n",
    "    t=(data_max-data_min) // 7 + 1\n",
    "    vis.scales[0].domain = [0] + [9, 12, 15, 18, 21, 24, 27]#[i for i in range(data_min, data_max+t, t)]\n",
    "    if flag==\"c\":\n",
    "        vis.legend(title=\"Crude prevalence depression \" +str(year)+ \" (%)\")\n",
    "    else:\n",
    "        vis.legend(title=\"Average Adjusted prevalence depression \" +str(year)+ \" (%)\")\n",
    "    vis.to_json('vega.json')\n",
    "    vis.display()"
   ]
  },
  {
   "cell_type": "code",
   "execution_count": 36,
   "metadata": {
    "collapsed": true
   },
   "outputs": [],
   "source": [
    "def routine_map(truth, year, flag=\"c\"):\n",
    "    data_map=data_sample(truth, year)\n",
    "    draw_map(data_map, year, flag)"
   ]
  },
  {
   "cell_type": "code",
   "execution_count": 37,
   "metadata": {
    "collapsed": false,
    "scrolled": true
   },
   "outputs": [
    {
     "data": {
      "text/html": [
       "\n",
       "           <script>\n",
       "               \n",
       "                function vct_load_lib(url, callback){\n",
       "                      if(typeof d3 !== 'undefined' &&\n",
       "                         url === 'http://d3js.org/d3.v3.min.js'){\n",
       "                        callback()\n",
       "                      }\n",
       "                      var s = document.createElement('script');\n",
       "                      s.src = url;\n",
       "                      s.async = true;\n",
       "                      s.onreadystatechange = s.onload = callback;\n",
       "                      s.onerror = function(){\n",
       "                        console.warn(\"failed to load library \" + url);\n",
       "                        };\n",
       "                      document.getElementsByTagName(\"head\")[0].appendChild(s);\n",
       "                };\n",
       "                var vincent_event = new CustomEvent(\n",
       "                  \"vincent_libs_loaded\",\n",
       "                  {bubbles: true, cancelable: true}\n",
       "                );\n",
       "                \n",
       "               function load_all_libs(){\n",
       "                  console.log('Loading Vincent libs...')\n",
       "                  vct_load_lib('http://d3js.org/d3.v3.min.js', function(){\n",
       "                  vct_load_lib('http://d3js.org/d3.geo.projection.v0.min.js', function(){\n",
       "                  vct_load_lib('http://wrobstory.github.io/d3-cloud/d3.layout.cloud.js', function(){\n",
       "                  vct_load_lib('http://wrobstory.github.io/vega/vega.v1.3.3.js', function(){\n",
       "                  window.dispatchEvent(vincent_event);\n",
       "                  });\n",
       "                  });\n",
       "                  });\n",
       "                  });\n",
       "               };\n",
       "               if(typeof define === \"function\" && define.amd){\n",
       "                    if (window['d3'] === undefined ||\n",
       "                        window['topojson'] === undefined){\n",
       "                        require.config(\n",
       "                            {paths: {\n",
       "                              d3: 'http://d3js.org/d3.v3.min',\n",
       "                              topojson: 'http://d3js.org/topojson.v1.min'\n",
       "                              }\n",
       "                            }\n",
       "                          );\n",
       "                        require([\"d3\"], function(d3){\n",
       "                            console.log('Loading Vincent from require.js...')\n",
       "                            window.d3 = d3;\n",
       "                            require([\"topojson\"], function(topojson){\n",
       "                                window.topojson = topojson;\n",
       "                                load_all_libs();\n",
       "                            });\n",
       "                        });\n",
       "                    } else {\n",
       "                        load_all_libs();\n",
       "                    };\n",
       "               }else{\n",
       "                    console.log('Require.js not found, loading manually...')\n",
       "                    load_all_libs();\n",
       "               };\n",
       "\n",
       "           </script>"
      ],
      "text/plain": [
       "<IPython.core.display.HTML object>"
      ]
     },
     "metadata": {},
     "output_type": "display_data"
    },
    {
     "data": {
      "text/html": [
       "<div id=\"vise721ce5b3b0247a185abfec3ac7b6cd9\"></div>\n",
       "<script>\n",
       "   ( function() {\n",
       "     var _do_plot = function() {\n",
       "       if (typeof vg === 'undefined') {\n",
       "         window.addEventListener('vincent_libs_loaded', _do_plot)\n",
       "         return;\n",
       "       }\n",
       "       vg.parse.spec({\"axes\": [], \"data\": [{\"name\": \"table\", \"values\": [{\"x\": \"Alabama\", \"y\": 21.2}, {\"x\": \"Alaska\", \"y\": 16.5}, {\"x\": \"Arizona\", \"y\": 17.5}, {\"x\": \"Arkansas\", \"y\": 22.8}, {\"x\": \"California\", \"y\": 12.3}, {\"x\": \"Colorado\", \"y\": 17.6}, {\"x\": \"Connecticut\", \"y\": 15.4}, {\"x\": \"Delaware\", \"y\": 14.2}, {\"x\": \"District of Columbia\", \"y\": 16.0}, {\"x\": \"Florida\", \"y\": 16.5}, {\"x\": \"Georgia\", \"y\": 14.9}, {\"x\": \"Hawaii\", \"y\": 10.6}, {\"x\": \"Idaho\", \"y\": 19.6}, {\"x\": \"Illinois\", \"y\": 16.3}, {\"x\": \"Indiana\", \"y\": 20.8}, {\"x\": \"Iowa\", \"y\": 15.2}, {\"x\": \"Kansas\", \"y\": 15.9}, {\"x\": \"Kentucky\", \"y\": 19.7}, {\"x\": \"Louisiana\", \"y\": 18.1}, {\"x\": \"Maine\", \"y\": 24.4}, {\"x\": \"Maryland\", \"y\": 13.6}, {\"x\": \"Massachusetts\", \"y\": 16.7}, {\"x\": \"Michigan\", \"y\": 20.7}, {\"x\": \"Minnesota\", \"y\": 15.1}, {\"x\": \"Mississippi\", \"y\": 18.9}, {\"x\": \"Missouri\", \"y\": 20.1}, {\"x\": \"Montana\", \"y\": 20.5}, {\"x\": \"Nebraska\", \"y\": 16.9}, {\"x\": \"Nevada\", \"y\": 15.8}, {\"x\": \"New Hampshire\", \"y\": 21.8}, {\"x\": \"New Jersey\", \"y\": 11.1}, {\"x\": \"New Mexico\", \"y\": 20.4}, {\"x\": \"New York\", \"y\": 15.9}, {\"x\": \"North Carolina\", \"y\": 17.5}, {\"x\": \"North Dakota\", \"y\": 17.3}, {\"x\": \"Ohio\", \"y\": 17.7}, {\"x\": \"Oklahoma\", \"y\": 21.9}, {\"x\": \"Oregon\", \"y\": 23.9}, {\"x\": \"Pennsylvania\", \"y\": 19.3}, {\"x\": \"Rhode Island\", \"y\": 22.0}, {\"x\": \"South Carolina\", \"y\": 15.3}, {\"x\": \"South Dakota\", \"y\": 16.4}, {\"x\": \"Tennessee\", \"y\": 19.2}, {\"x\": \"Texas\", \"y\": 16.6}, {\"x\": \"Utah\", \"y\": 22.0}, {\"x\": \"Vermont\", \"y\": 23.0}, {\"x\": \"Virginia\", \"y\": 14.1}, {\"x\": \"Washington\", \"y\": 19.7}, {\"x\": \"West Virginia\", \"y\": 20.1}, {\"x\": \"Wisconsin\", \"y\": 14.8}, {\"x\": \"Wyoming\", \"y\": 19.0}, {\"x\": \"Guam\", \"y\": 7.6}, {\"x\": \"Puerto Rico\", \"y\": 16.8}]}, {\"format\": {\"feature\": \"us_states.geo\", \"type\": \"topojson\"}, \"name\": \"states\", \"transform\": [{\"as\": \"value\", \"default\": \"noval\", \"key\": \"data.properties.NAME\", \"type\": \"zip\", \"with\": \"table\", \"withKey\": \"data.x\"}, {\"test\": \"d.path!='noval' && d.value!='noval'\", \"type\": \"filter\"}, {\"projection\": \"albersUsa\", \"scale\": 1000, \"translate\": [480.0, 250.0], \"type\": \"geopath\", \"value\": \"data\"}], \"url\": \"https://raw.githubusercontent.com/wrobstory/vincent_map_data/master/us_states.topo.json\"}], \"height\": 500, \"legends\": [{\"fill\": \"color\", \"offset\": 0, \"properties\": {}, \"title\": \"Crude prevalence depression 2011 (%)\"}], \"marks\": [{\"from\": {\"data\": \"states\"}, \"properties\": {\"enter\": {\"path\": {\"field\": \"path\"}, \"stroke\": {\"value\": \"#000000\"}}, \"update\": {\"fill\": {\"field\": \"value.data.y\", \"scale\": \"color\"}}}, \"type\": \"path\"}], \"padding\": \"auto\", \"scales\": [{\"domain\": [0, 9, 12, 15, 18, 21, 24, 27], \"name\": \"color\", \"range\": [\"#ffffd9\", \"#edf8b1\", \"#c7e9b4\", \"#7fcdbb\", \"#41b6c4\", \"#1d91c0\", \"#225ea8\", \"#253494\", \"#081d58\"], \"type\": \"threshold\"}], \"width\": 960}, function(chart) {\n",
       "         chart({el: \"#vise721ce5b3b0247a185abfec3ac7b6cd9\"}).update();\n",
       "       });\n",
       "     };\n",
       "     _do_plot();\n",
       "   })();\n",
       "</script>\n",
       "<style>.vega canvas {width: 100%;}</style>\n",
       "        "
      ],
      "text/plain": [
       "<IPython.core.display.HTML object>"
      ]
     },
     "metadata": {},
     "output_type": "display_data"
    },
    {
     "data": {
      "text/html": [
       "\n",
       "           <script>\n",
       "               \n",
       "                function vct_load_lib(url, callback){\n",
       "                      if(typeof d3 !== 'undefined' &&\n",
       "                         url === 'http://d3js.org/d3.v3.min.js'){\n",
       "                        callback()\n",
       "                      }\n",
       "                      var s = document.createElement('script');\n",
       "                      s.src = url;\n",
       "                      s.async = true;\n",
       "                      s.onreadystatechange = s.onload = callback;\n",
       "                      s.onerror = function(){\n",
       "                        console.warn(\"failed to load library \" + url);\n",
       "                        };\n",
       "                      document.getElementsByTagName(\"head\")[0].appendChild(s);\n",
       "                };\n",
       "                var vincent_event = new CustomEvent(\n",
       "                  \"vincent_libs_loaded\",\n",
       "                  {bubbles: true, cancelable: true}\n",
       "                );\n",
       "                \n",
       "               function load_all_libs(){\n",
       "                  console.log('Loading Vincent libs...')\n",
       "                  vct_load_lib('http://d3js.org/d3.v3.min.js', function(){\n",
       "                  vct_load_lib('http://d3js.org/d3.geo.projection.v0.min.js', function(){\n",
       "                  vct_load_lib('http://wrobstory.github.io/d3-cloud/d3.layout.cloud.js', function(){\n",
       "                  vct_load_lib('http://wrobstory.github.io/vega/vega.v1.3.3.js', function(){\n",
       "                  window.dispatchEvent(vincent_event);\n",
       "                  });\n",
       "                  });\n",
       "                  });\n",
       "                  });\n",
       "               };\n",
       "               if(typeof define === \"function\" && define.amd){\n",
       "                    if (window['d3'] === undefined ||\n",
       "                        window['topojson'] === undefined){\n",
       "                        require.config(\n",
       "                            {paths: {\n",
       "                              d3: 'http://d3js.org/d3.v3.min',\n",
       "                              topojson: 'http://d3js.org/topojson.v1.min'\n",
       "                              }\n",
       "                            }\n",
       "                          );\n",
       "                        require([\"d3\"], function(d3){\n",
       "                            console.log('Loading Vincent from require.js...')\n",
       "                            window.d3 = d3;\n",
       "                            require([\"topojson\"], function(topojson){\n",
       "                                window.topojson = topojson;\n",
       "                                load_all_libs();\n",
       "                            });\n",
       "                        });\n",
       "                    } else {\n",
       "                        load_all_libs();\n",
       "                    };\n",
       "               }else{\n",
       "                    console.log('Require.js not found, loading manually...')\n",
       "                    load_all_libs();\n",
       "               };\n",
       "\n",
       "           </script>"
      ],
      "text/plain": [
       "<IPython.core.display.HTML object>"
      ]
     },
     "metadata": {},
     "output_type": "display_data"
    },
    {
     "data": {
      "text/html": [
       "<div id=\"visc40a321c94a84afe815b314bcde8f8dc\"></div>\n",
       "<script>\n",
       "   ( function() {\n",
       "     var _do_plot = function() {\n",
       "       if (typeof vg === 'undefined') {\n",
       "         window.addEventListener('vincent_libs_loaded', _do_plot)\n",
       "         return;\n",
       "       }\n",
       "       vg.parse.spec({\"axes\": [], \"data\": [{\"name\": \"table\", \"values\": [{\"x\": \"Alabama\", \"y\": 21.9}, {\"x\": \"Alaska\", \"y\": 16.9}, {\"x\": \"Arizona\", \"y\": 18.8}, {\"x\": \"Arkansas\", \"y\": 22.2}, {\"x\": \"California\", \"y\": 11.7}, {\"x\": \"Colorado\", \"y\": 17.4}, {\"x\": \"Connecticut\", \"y\": 16.7}, {\"x\": \"Delaware\", \"y\": 14.8}, {\"x\": \"District of Columbia\", \"y\": 16.3}, {\"x\": \"Florida\", \"y\": 16.9}, {\"x\": \"Georgia\", \"y\": 16.7}, {\"x\": \"Hawaii\", \"y\": 11.5}, {\"x\": \"Idaho\", \"y\": 19.9}, {\"x\": \"Illinois\", \"y\": 15.0}, {\"x\": \"Indiana\", \"y\": 19.5}, {\"x\": \"Iowa\", \"y\": 17.0}, {\"x\": \"Kansas\", \"y\": 16.5}, {\"x\": \"Kentucky\", \"y\": 23.5}, {\"x\": \"Louisiana\", \"y\": 17.2}, {\"x\": \"Maine\", \"y\": 22.7}, {\"x\": \"Maryland\", \"y\": 14.2}, {\"x\": \"Massachusetts\", \"y\": 18.9}, {\"x\": \"Michigan\", \"y\": 20.6}, {\"x\": \"Minnesota\", \"y\": 17.1}, {\"x\": \"Mississippi\", \"y\": 18.4}, {\"x\": \"Missouri\", \"y\": 20.1}, {\"x\": \"Montana\", \"y\": 20.0}, {\"x\": \"Nebraska\", \"y\": 16.8}, {\"x\": \"Nevada\", \"y\": 16.3}, {\"x\": \"New Hampshire\", \"y\": 19.7}, {\"x\": \"New Jersey\", \"y\": 13.0}, {\"x\": \"New Mexico\", \"y\": 19.9}, {\"x\": \"New York\", \"y\": 14.8}, {\"x\": \"North Carolina\", \"y\": 17.6}, {\"x\": \"North Dakota\", \"y\": 15.0}, {\"x\": \"Ohio\", \"y\": 18.9}, {\"x\": \"Oklahoma\", \"y\": 21.9}, {\"x\": \"Oregon\", \"y\": 23.4}, {\"x\": \"Pennsylvania\", \"y\": 18.0}, {\"x\": \"Rhode Island\", \"y\": 20.3}, {\"x\": \"South Carolina\", \"y\": 18.0}, {\"x\": \"South Dakota\", \"y\": 15.3}, {\"x\": \"Tennessee\", \"y\": 20.2}, {\"x\": \"Texas\", \"y\": 15.5}, {\"x\": \"Utah\", \"y\": 21.0}, {\"x\": \"Vermont\", \"y\": 21.9}, {\"x\": \"Virginia\", \"y\": 16.6}, {\"x\": \"Washington\", \"y\": 22.3}, {\"x\": \"West Virginia\", \"y\": 20.9}, {\"x\": \"Wisconsin\", \"y\": 16.1}, {\"x\": \"Wyoming\", \"y\": 18.0}, {\"x\": \"Guam\", \"y\": 9.0}, {\"x\": \"Puerto Rico\", \"y\": 16.3}]}, {\"format\": {\"feature\": \"us_states.geo\", \"type\": \"topojson\"}, \"name\": \"states\", \"transform\": [{\"as\": \"value\", \"default\": \"noval\", \"key\": \"data.properties.NAME\", \"type\": \"zip\", \"with\": \"table\", \"withKey\": \"data.x\"}, {\"test\": \"d.path!='noval' && d.value!='noval'\", \"type\": \"filter\"}, {\"projection\": \"albersUsa\", \"scale\": 1000, \"translate\": [480.0, 250.0], \"type\": \"geopath\", \"value\": \"data\"}], \"url\": \"https://raw.githubusercontent.com/wrobstory/vincent_map_data/master/us_states.topo.json\"}], \"height\": 500, \"legends\": [{\"fill\": \"color\", \"offset\": 0, \"properties\": {}, \"title\": \"Crude prevalence depression 2012 (%)\"}], \"marks\": [{\"from\": {\"data\": \"states\"}, \"properties\": {\"enter\": {\"path\": {\"field\": \"path\"}, \"stroke\": {\"value\": \"#000000\"}}, \"update\": {\"fill\": {\"field\": \"value.data.y\", \"scale\": \"color\"}}}, \"type\": \"path\"}], \"padding\": \"auto\", \"scales\": [{\"domain\": [0, 9, 12, 15, 18, 21, 24, 27], \"name\": \"color\", \"range\": [\"#ffffd9\", \"#edf8b1\", \"#c7e9b4\", \"#7fcdbb\", \"#41b6c4\", \"#1d91c0\", \"#225ea8\", \"#253494\", \"#081d58\"], \"type\": \"threshold\"}], \"width\": 960}, function(chart) {\n",
       "         chart({el: \"#visc40a321c94a84afe815b314bcde8f8dc\"}).update();\n",
       "       });\n",
       "     };\n",
       "     _do_plot();\n",
       "   })();\n",
       "</script>\n",
       "<style>.vega canvas {width: 100%;}</style>\n",
       "        "
      ],
      "text/plain": [
       "<IPython.core.display.HTML object>"
      ]
     },
     "metadata": {},
     "output_type": "display_data"
    },
    {
     "data": {
      "text/html": [
       "\n",
       "           <script>\n",
       "               \n",
       "                function vct_load_lib(url, callback){\n",
       "                      if(typeof d3 !== 'undefined' &&\n",
       "                         url === 'http://d3js.org/d3.v3.min.js'){\n",
       "                        callback()\n",
       "                      }\n",
       "                      var s = document.createElement('script');\n",
       "                      s.src = url;\n",
       "                      s.async = true;\n",
       "                      s.onreadystatechange = s.onload = callback;\n",
       "                      s.onerror = function(){\n",
       "                        console.warn(\"failed to load library \" + url);\n",
       "                        };\n",
       "                      document.getElementsByTagName(\"head\")[0].appendChild(s);\n",
       "                };\n",
       "                var vincent_event = new CustomEvent(\n",
       "                  \"vincent_libs_loaded\",\n",
       "                  {bubbles: true, cancelable: true}\n",
       "                );\n",
       "                \n",
       "               function load_all_libs(){\n",
       "                  console.log('Loading Vincent libs...')\n",
       "                  vct_load_lib('http://d3js.org/d3.v3.min.js', function(){\n",
       "                  vct_load_lib('http://d3js.org/d3.geo.projection.v0.min.js', function(){\n",
       "                  vct_load_lib('http://wrobstory.github.io/d3-cloud/d3.layout.cloud.js', function(){\n",
       "                  vct_load_lib('http://wrobstory.github.io/vega/vega.v1.3.3.js', function(){\n",
       "                  window.dispatchEvent(vincent_event);\n",
       "                  });\n",
       "                  });\n",
       "                  });\n",
       "                  });\n",
       "               };\n",
       "               if(typeof define === \"function\" && define.amd){\n",
       "                    if (window['d3'] === undefined ||\n",
       "                        window['topojson'] === undefined){\n",
       "                        require.config(\n",
       "                            {paths: {\n",
       "                              d3: 'http://d3js.org/d3.v3.min',\n",
       "                              topojson: 'http://d3js.org/topojson.v1.min'\n",
       "                              }\n",
       "                            }\n",
       "                          );\n",
       "                        require([\"d3\"], function(d3){\n",
       "                            console.log('Loading Vincent from require.js...')\n",
       "                            window.d3 = d3;\n",
       "                            require([\"topojson\"], function(topojson){\n",
       "                                window.topojson = topojson;\n",
       "                                load_all_libs();\n",
       "                            });\n",
       "                        });\n",
       "                    } else {\n",
       "                        load_all_libs();\n",
       "                    };\n",
       "               }else{\n",
       "                    console.log('Require.js not found, loading manually...')\n",
       "                    load_all_libs();\n",
       "               };\n",
       "\n",
       "           </script>"
      ],
      "text/plain": [
       "<IPython.core.display.HTML object>"
      ]
     },
     "metadata": {},
     "output_type": "display_data"
    },
    {
     "data": {
      "text/html": [
       "<div id=\"vis6f9a94e0c5ed44e8a7ce3d70dfc227c1\"></div>\n",
       "<script>\n",
       "   ( function() {\n",
       "     var _do_plot = function() {\n",
       "       if (typeof vg === 'undefined') {\n",
       "         window.addEventListener('vincent_libs_loaded', _do_plot)\n",
       "         return;\n",
       "       }\n",
       "       vg.parse.spec({\"axes\": [], \"data\": [{\"name\": \"table\", \"values\": [{\"x\": \"Alabama\", \"y\": 21.8}, {\"x\": \"Alaska\", \"y\": 16.3}, {\"x\": \"Arizona\", \"y\": 18.1}, {\"x\": \"Arkansas\", \"y\": 23.1}, {\"x\": \"California\", \"y\": 13.1}, {\"x\": \"Colorado\", \"y\": 18.2}, {\"x\": \"Connecticut\", \"y\": 17.5}, {\"x\": \"Delaware\", \"y\": 17.7}, {\"x\": \"District of Columbia\", \"y\": 20.9}, {\"x\": \"Florida\", \"y\": 16.8}, {\"x\": \"Georgia\", \"y\": 17.3}, {\"x\": \"Hawaii\", \"y\": 11.4}, {\"x\": \"Idaho\", \"y\": 20.8}, {\"x\": \"Illinois\", \"y\": 15.4}, {\"x\": \"Indiana\", \"y\": 19.5}, {\"x\": \"Iowa\", \"y\": 19.2}, {\"x\": \"Kansas\", \"y\": 18.1}, {\"x\": \"Kentucky\", \"y\": 20.2}, {\"x\": \"Louisiana\", \"y\": 18.7}, {\"x\": \"Maine\", \"y\": 23.4}, {\"x\": \"Maryland\", \"y\": 16.0}, {\"x\": \"Massachusetts\", \"y\": 19.7}, {\"x\": \"Michigan\", \"y\": 21.3}, {\"x\": \"Minnesota\", \"y\": 18.4}, {\"x\": \"Mississippi\", \"y\": 19.2}, {\"x\": \"Missouri\", \"y\": 21.3}, {\"x\": \"Montana\", \"y\": 21.1}, {\"x\": \"Nebraska\", \"y\": 18.2}, {\"x\": \"Nevada\", \"y\": 17.6}, {\"x\": \"New Hampshire\", \"y\": 22.1}, {\"x\": \"New Jersey\", \"y\": 13.9}, {\"x\": \"New Mexico\", \"y\": 19.5}, {\"x\": \"New York\", \"y\": 16.1}, {\"x\": \"North Carolina\", \"y\": 18.7}, {\"x\": \"North Dakota\", \"y\": 16.8}, {\"x\": \"Ohio\", \"y\": 20.2}, {\"x\": \"Oklahoma\", \"y\": 23.4}, {\"x\": \"Oregon\", \"y\": 26.6}, {\"x\": \"Pennsylvania\", \"y\": 18.3}, {\"x\": \"Rhode Island\", \"y\": 22.2}, {\"x\": \"South Carolina\", \"y\": 19.6}, {\"x\": \"South Dakota\", \"y\": 14.5}, {\"x\": \"Tennessee\", \"y\": 19.3}, {\"x\": \"Texas\", \"y\": 16.0}, {\"x\": \"Utah\", \"y\": 21.9}, {\"x\": \"Vermont\", \"y\": 23.2}, {\"x\": \"Virginia\", \"y\": 16.5}, {\"x\": \"Washington\", \"y\": 23.5}, {\"x\": \"West Virginia\", \"y\": 22.0}, {\"x\": \"Wisconsin\", \"y\": 18.1}, {\"x\": \"Wyoming\", \"y\": 18.7}, {\"x\": \"Guam\", \"y\": 8.7}, {\"x\": \"Puerto Rico\", \"y\": 18.8}]}, {\"format\": {\"feature\": \"us_states.geo\", \"type\": \"topojson\"}, \"name\": \"states\", \"transform\": [{\"as\": \"value\", \"default\": \"noval\", \"key\": \"data.properties.NAME\", \"type\": \"zip\", \"with\": \"table\", \"withKey\": \"data.x\"}, {\"test\": \"d.path!='noval' && d.value!='noval'\", \"type\": \"filter\"}, {\"projection\": \"albersUsa\", \"scale\": 1000, \"translate\": [480.0, 250.0], \"type\": \"geopath\", \"value\": \"data\"}], \"url\": \"https://raw.githubusercontent.com/wrobstory/vincent_map_data/master/us_states.topo.json\"}], \"height\": 500, \"legends\": [{\"fill\": \"color\", \"offset\": 0, \"properties\": {}, \"title\": \"Crude prevalence depression 2013 (%)\"}], \"marks\": [{\"from\": {\"data\": \"states\"}, \"properties\": {\"enter\": {\"path\": {\"field\": \"path\"}, \"stroke\": {\"value\": \"#000000\"}}, \"update\": {\"fill\": {\"field\": \"value.data.y\", \"scale\": \"color\"}}}, \"type\": \"path\"}], \"padding\": \"auto\", \"scales\": [{\"domain\": [0, 9, 12, 15, 18, 21, 24, 27], \"name\": \"color\", \"range\": [\"#ffffd9\", \"#edf8b1\", \"#c7e9b4\", \"#7fcdbb\", \"#41b6c4\", \"#1d91c0\", \"#225ea8\", \"#253494\", \"#081d58\"], \"type\": \"threshold\"}], \"width\": 960}, function(chart) {\n",
       "         chart({el: \"#vis6f9a94e0c5ed44e8a7ce3d70dfc227c1\"}).update();\n",
       "       });\n",
       "     };\n",
       "     _do_plot();\n",
       "   })();\n",
       "</script>\n",
       "<style>.vega canvas {width: 100%;}</style>\n",
       "        "
      ],
      "text/plain": [
       "<IPython.core.display.HTML object>"
      ]
     },
     "metadata": {},
     "output_type": "display_data"
    },
    {
     "data": {
      "text/html": [
       "\n",
       "           <script>\n",
       "               \n",
       "                function vct_load_lib(url, callback){\n",
       "                      if(typeof d3 !== 'undefined' &&\n",
       "                         url === 'http://d3js.org/d3.v3.min.js'){\n",
       "                        callback()\n",
       "                      }\n",
       "                      var s = document.createElement('script');\n",
       "                      s.src = url;\n",
       "                      s.async = true;\n",
       "                      s.onreadystatechange = s.onload = callback;\n",
       "                      s.onerror = function(){\n",
       "                        console.warn(\"failed to load library \" + url);\n",
       "                        };\n",
       "                      document.getElementsByTagName(\"head\")[0].appendChild(s);\n",
       "                };\n",
       "                var vincent_event = new CustomEvent(\n",
       "                  \"vincent_libs_loaded\",\n",
       "                  {bubbles: true, cancelable: true}\n",
       "                );\n",
       "                \n",
       "               function load_all_libs(){\n",
       "                  console.log('Loading Vincent libs...')\n",
       "                  vct_load_lib('http://d3js.org/d3.v3.min.js', function(){\n",
       "                  vct_load_lib('http://d3js.org/d3.geo.projection.v0.min.js', function(){\n",
       "                  vct_load_lib('http://wrobstory.github.io/d3-cloud/d3.layout.cloud.js', function(){\n",
       "                  vct_load_lib('http://wrobstory.github.io/vega/vega.v1.3.3.js', function(){\n",
       "                  window.dispatchEvent(vincent_event);\n",
       "                  });\n",
       "                  });\n",
       "                  });\n",
       "                  });\n",
       "               };\n",
       "               if(typeof define === \"function\" && define.amd){\n",
       "                    if (window['d3'] === undefined ||\n",
       "                        window['topojson'] === undefined){\n",
       "                        require.config(\n",
       "                            {paths: {\n",
       "                              d3: 'http://d3js.org/d3.v3.min',\n",
       "                              topojson: 'http://d3js.org/topojson.v1.min'\n",
       "                              }\n",
       "                            }\n",
       "                          );\n",
       "                        require([\"d3\"], function(d3){\n",
       "                            console.log('Loading Vincent from require.js...')\n",
       "                            window.d3 = d3;\n",
       "                            require([\"topojson\"], function(topojson){\n",
       "                                window.topojson = topojson;\n",
       "                                load_all_libs();\n",
       "                            });\n",
       "                        });\n",
       "                    } else {\n",
       "                        load_all_libs();\n",
       "                    };\n",
       "               }else{\n",
       "                    console.log('Require.js not found, loading manually...')\n",
       "                    load_all_libs();\n",
       "               };\n",
       "\n",
       "           </script>"
      ],
      "text/plain": [
       "<IPython.core.display.HTML object>"
      ]
     },
     "metadata": {},
     "output_type": "display_data"
    },
    {
     "data": {
      "text/html": [
       "<div id=\"vise2d399a168be4b4cbf8615948744e372\"></div>\n",
       "<script>\n",
       "   ( function() {\n",
       "     var _do_plot = function() {\n",
       "       if (typeof vg === 'undefined') {\n",
       "         window.addEventListener('vincent_libs_loaded', _do_plot)\n",
       "         return;\n",
       "       }\n",
       "       vg.parse.spec({\"axes\": [], \"data\": [{\"name\": \"table\", \"values\": [{\"x\": \"Alabama\", \"y\": 21.3}, {\"x\": \"Alaska\", \"y\": 15.6}, {\"x\": \"Arizona\", \"y\": 18.7}, {\"x\": \"Arkansas\", \"y\": 21.5}, {\"x\": \"California\", \"y\": 13.3}, {\"x\": \"Colorado\", \"y\": 17.0}, {\"x\": \"Connecticut\", \"y\": 18.3}, {\"x\": \"Delaware\", \"y\": 18.3}, {\"x\": \"District of Columbia\", \"y\": 18.1}, {\"x\": \"Florida\", \"y\": 16.2}, {\"x\": \"Georgia\", \"y\": 18.3}, {\"x\": \"Hawaii\", \"y\": 10.7}, {\"x\": \"Idaho\", \"y\": 19.5}, {\"x\": \"Illinois\", \"y\": 16.7}, {\"x\": \"Indiana\", \"y\": 20.7}, {\"x\": \"Iowa\", \"y\": 18.7}, {\"x\": \"Kansas\", \"y\": 18.6}, {\"x\": \"Kentucky\", \"y\": 23.9}, {\"x\": \"Louisiana\", \"y\": 18.7}, {\"x\": \"Maine\", \"y\": 23.7}, {\"x\": \"Maryland\", \"y\": 15.9}, {\"x\": \"Massachusetts\", \"y\": 21.7}, {\"x\": \"Michigan\", \"y\": 20.5}, {\"x\": \"Minnesota\", \"y\": 18.2}, {\"x\": \"Mississippi\", \"y\": 19.9}, {\"x\": \"Missouri\", \"y\": 21.7}, {\"x\": \"Montana\", \"y\": 20.4}, {\"x\": \"Nebraska\", \"y\": 17.7}, {\"x\": \"Nevada\", \"y\": 15.6}, {\"x\": \"New Hampshire\", \"y\": 21.0}, {\"x\": \"New Jersey\", \"y\": 13.4}, {\"x\": \"New Mexico\", \"y\": 21.1}, {\"x\": \"New York\", \"y\": 15.9}, {\"x\": \"North Carolina\", \"y\": 19.0}, {\"x\": \"North Dakota\", \"y\": 17.3}, {\"x\": \"Ohio\", \"y\": 20.9}, {\"x\": \"Oklahoma\", \"y\": 21.8}, {\"x\": \"Oregon\", \"y\": 24.0}, {\"x\": \"Pennsylvania\", \"y\": 19.7}, {\"x\": \"Rhode Island\", \"y\": 20.6}, {\"x\": \"South Carolina\", \"y\": 19.9}, {\"x\": \"South Dakota\", \"y\": 16.6}, {\"x\": \"Tennessee\", \"y\": 21.4}, {\"x\": \"Texas\", \"y\": 14.6}, {\"x\": \"Utah\", \"y\": 20.7}, {\"x\": \"Vermont\", \"y\": 21.8}, {\"x\": \"Virginia\", \"y\": 17.4}, {\"x\": \"Washington\", \"y\": 21.6}, {\"x\": \"West Virginia\", \"y\": 23.6}, {\"x\": \"Wisconsin\", \"y\": 17.0}, {\"x\": \"Wyoming\", \"y\": 19.0}, {\"x\": \"Guam\", \"y\": 8.7}, {\"x\": \"Puerto Rico\", \"y\": 18.5}]}, {\"format\": {\"feature\": \"us_states.geo\", \"type\": \"topojson\"}, \"name\": \"states\", \"transform\": [{\"as\": \"value\", \"default\": \"noval\", \"key\": \"data.properties.NAME\", \"type\": \"zip\", \"with\": \"table\", \"withKey\": \"data.x\"}, {\"test\": \"d.path!='noval' && d.value!='noval'\", \"type\": \"filter\"}, {\"projection\": \"albersUsa\", \"scale\": 1000, \"translate\": [480.0, 250.0], \"type\": \"geopath\", \"value\": \"data\"}], \"url\": \"https://raw.githubusercontent.com/wrobstory/vincent_map_data/master/us_states.topo.json\"}], \"height\": 500, \"legends\": [{\"fill\": \"color\", \"offset\": 0, \"properties\": {}, \"title\": \"Crude prevalence depression 2014 (%)\"}], \"marks\": [{\"from\": {\"data\": \"states\"}, \"properties\": {\"enter\": {\"path\": {\"field\": \"path\"}, \"stroke\": {\"value\": \"#000000\"}}, \"update\": {\"fill\": {\"field\": \"value.data.y\", \"scale\": \"color\"}}}, \"type\": \"path\"}], \"padding\": \"auto\", \"scales\": [{\"domain\": [0, 9, 12, 15, 18, 21, 24, 27], \"name\": \"color\", \"range\": [\"#ffffd9\", \"#edf8b1\", \"#c7e9b4\", \"#7fcdbb\", \"#41b6c4\", \"#1d91c0\", \"#225ea8\", \"#253494\", \"#081d58\"], \"type\": \"threshold\"}], \"width\": 960}, function(chart) {\n",
       "         chart({el: \"#vise2d399a168be4b4cbf8615948744e372\"}).update();\n",
       "       });\n",
       "     };\n",
       "     _do_plot();\n",
       "   })();\n",
       "</script>\n",
       "<style>.vega canvas {width: 100%;}</style>\n",
       "        "
      ],
      "text/plain": [
       "<IPython.core.display.HTML object>"
      ]
     },
     "metadata": {},
     "output_type": "display_data"
    },
    {
     "data": {
      "text/html": [
       "\n",
       "           <script>\n",
       "               \n",
       "                function vct_load_lib(url, callback){\n",
       "                      if(typeof d3 !== 'undefined' &&\n",
       "                         url === 'http://d3js.org/d3.v3.min.js'){\n",
       "                        callback()\n",
       "                      }\n",
       "                      var s = document.createElement('script');\n",
       "                      s.src = url;\n",
       "                      s.async = true;\n",
       "                      s.onreadystatechange = s.onload = callback;\n",
       "                      s.onerror = function(){\n",
       "                        console.warn(\"failed to load library \" + url);\n",
       "                        };\n",
       "                      document.getElementsByTagName(\"head\")[0].appendChild(s);\n",
       "                };\n",
       "                var vincent_event = new CustomEvent(\n",
       "                  \"vincent_libs_loaded\",\n",
       "                  {bubbles: true, cancelable: true}\n",
       "                );\n",
       "                \n",
       "               function load_all_libs(){\n",
       "                  console.log('Loading Vincent libs...')\n",
       "                  vct_load_lib('http://d3js.org/d3.v3.min.js', function(){\n",
       "                  vct_load_lib('http://d3js.org/d3.geo.projection.v0.min.js', function(){\n",
       "                  vct_load_lib('http://wrobstory.github.io/d3-cloud/d3.layout.cloud.js', function(){\n",
       "                  vct_load_lib('http://wrobstory.github.io/vega/vega.v1.3.3.js', function(){\n",
       "                  window.dispatchEvent(vincent_event);\n",
       "                  });\n",
       "                  });\n",
       "                  });\n",
       "                  });\n",
       "               };\n",
       "               if(typeof define === \"function\" && define.amd){\n",
       "                    if (window['d3'] === undefined ||\n",
       "                        window['topojson'] === undefined){\n",
       "                        require.config(\n",
       "                            {paths: {\n",
       "                              d3: 'http://d3js.org/d3.v3.min',\n",
       "                              topojson: 'http://d3js.org/topojson.v1.min'\n",
       "                              }\n",
       "                            }\n",
       "                          );\n",
       "                        require([\"d3\"], function(d3){\n",
       "                            console.log('Loading Vincent from require.js...')\n",
       "                            window.d3 = d3;\n",
       "                            require([\"topojson\"], function(topojson){\n",
       "                                window.topojson = topojson;\n",
       "                                load_all_libs();\n",
       "                            });\n",
       "                        });\n",
       "                    } else {\n",
       "                        load_all_libs();\n",
       "                    };\n",
       "               }else{\n",
       "                    console.log('Require.js not found, loading manually...')\n",
       "                    load_all_libs();\n",
       "               };\n",
       "\n",
       "           </script>"
      ],
      "text/plain": [
       "<IPython.core.display.HTML object>"
      ]
     },
     "metadata": {},
     "output_type": "display_data"
    },
    {
     "data": {
      "text/html": [
       "<div id=\"vis2c0ffcc0efce44889f9516e7d9008901\"></div>\n",
       "<script>\n",
       "   ( function() {\n",
       "     var _do_plot = function() {\n",
       "       if (typeof vg === 'undefined') {\n",
       "         window.addEventListener('vincent_libs_loaded', _do_plot)\n",
       "         return;\n",
       "       }\n",
       "       vg.parse.spec({\"axes\": [], \"data\": [{\"name\": \"table\", \"values\": [{\"x\": \"Alabama\", \"y\": 22.1}, {\"x\": \"Alaska\", \"y\": 16.0}, {\"x\": \"Arizona\", \"y\": 18.5}, {\"x\": \"Arkansas\", \"y\": 23.5}, {\"x\": \"California\", \"y\": 12.9}, {\"x\": \"Colorado\", \"y\": 19.3}, {\"x\": \"Connecticut\", \"y\": 17.6}, {\"x\": \"Delaware\", \"y\": 17.9}, {\"x\": \"District of Columbia\", \"y\": 18.0}, {\"x\": \"Florida\", \"y\": 16.5}, {\"x\": \"Georgia\", \"y\": 18.3}, {\"x\": \"Hawaii\", \"y\": 11.6}, {\"x\": \"Idaho\", \"y\": 19.7}, {\"x\": \"Illinois\", \"y\": 15.3}, {\"x\": \"Indiana\", \"y\": 20.5}, {\"x\": \"Iowa\", \"y\": 19.0}, {\"x\": \"Kansas\", \"y\": 19.5}, {\"x\": \"Kentucky\", \"y\": 18.8}, {\"x\": \"Louisiana\", \"y\": 20.1}, {\"x\": \"Maine\", \"y\": 24.0}, {\"x\": \"Maryland\", \"y\": 16.3}, {\"x\": \"Massachusetts\", \"y\": 20.9}, {\"x\": \"Michigan\", \"y\": 19.7}, {\"x\": \"Minnesota\", \"y\": 18.9}, {\"x\": \"Mississippi\", \"y\": 18.2}, {\"x\": \"Missouri\", \"y\": 21.8}, {\"x\": \"Montana\", \"y\": 19.9}, {\"x\": \"Nebraska\", \"y\": 17.6}, {\"x\": \"Nevada\", \"y\": 16.6}, {\"x\": \"New Hampshire\", \"y\": 20.9}, {\"x\": \"New Jersey\", \"y\": 12.7}, {\"x\": \"New Mexico\", \"y\": 20.2}, {\"x\": \"New York\", \"y\": 15.7}, {\"x\": \"North Carolina\", \"y\": 18.8}, {\"x\": \"North Dakota\", \"y\": 18.8}, {\"x\": \"Ohio\", \"y\": 19.6}, {\"x\": \"Oklahoma\", \"y\": 22.7}, {\"x\": \"Oregon\", \"y\": 26.7}, {\"x\": \"Pennsylvania\", \"y\": 18.5}, {\"x\": \"Rhode Island\", \"y\": 21.3}, {\"x\": \"South Carolina\", \"y\": 19.5}, {\"x\": \"South Dakota\", \"y\": 16.1}, {\"x\": \"Tennessee\", \"y\": 21.2}, {\"x\": \"Texas\", \"y\": 16.1}, {\"x\": \"Utah\", \"y\": 20.8}, {\"x\": \"Vermont\", \"y\": 22.8}, {\"x\": \"Virginia\", \"y\": 15.7}, {\"x\": \"Washington\", \"y\": 21.7}, {\"x\": \"West Virginia\", \"y\": 23.1}, {\"x\": \"Wisconsin\", \"y\": 17.5}, {\"x\": \"Wyoming\", \"y\": 20.9}, {\"x\": \"Guam\", \"y\": 9.4}, {\"x\": \"Puerto Rico\", \"y\": 17.1}]}, {\"format\": {\"feature\": \"us_states.geo\", \"type\": \"topojson\"}, \"name\": \"states\", \"transform\": [{\"as\": \"value\", \"default\": \"noval\", \"key\": \"data.properties.NAME\", \"type\": \"zip\", \"with\": \"table\", \"withKey\": \"data.x\"}, {\"test\": \"d.path!='noval' && d.value!='noval'\", \"type\": \"filter\"}, {\"projection\": \"albersUsa\", \"scale\": 1000, \"translate\": [480.0, 250.0], \"type\": \"geopath\", \"value\": \"data\"}], \"url\": \"https://raw.githubusercontent.com/wrobstory/vincent_map_data/master/us_states.topo.json\"}], \"height\": 500, \"legends\": [{\"fill\": \"color\", \"offset\": 0, \"properties\": {}, \"title\": \"Crude prevalence depression 2015 (%)\"}], \"marks\": [{\"from\": {\"data\": \"states\"}, \"properties\": {\"enter\": {\"path\": {\"field\": \"path\"}, \"stroke\": {\"value\": \"#000000\"}}, \"update\": {\"fill\": {\"field\": \"value.data.y\", \"scale\": \"color\"}}}, \"type\": \"path\"}], \"padding\": \"auto\", \"scales\": [{\"domain\": [0, 9, 12, 15, 18, 21, 24, 27], \"name\": \"color\", \"range\": [\"#ffffd9\", \"#edf8b1\", \"#c7e9b4\", \"#7fcdbb\", \"#41b6c4\", \"#1d91c0\", \"#225ea8\", \"#253494\", \"#081d58\"], \"type\": \"threshold\"}], \"width\": 960}, function(chart) {\n",
       "         chart({el: \"#vis2c0ffcc0efce44889f9516e7d9008901\"}).update();\n",
       "       });\n",
       "     };\n",
       "     _do_plot();\n",
       "   })();\n",
       "</script>\n",
       "<style>.vega canvas {width: 100%;}</style>\n",
       "        "
      ],
      "text/plain": [
       "<IPython.core.display.HTML object>"
      ]
     },
     "metadata": {},
     "output_type": "display_data"
    },
    {
     "data": {
      "text/html": [
       "\n",
       "           <script>\n",
       "               \n",
       "                function vct_load_lib(url, callback){\n",
       "                      if(typeof d3 !== 'undefined' &&\n",
       "                         url === 'http://d3js.org/d3.v3.min.js'){\n",
       "                        callback()\n",
       "                      }\n",
       "                      var s = document.createElement('script');\n",
       "                      s.src = url;\n",
       "                      s.async = true;\n",
       "                      s.onreadystatechange = s.onload = callback;\n",
       "                      s.onerror = function(){\n",
       "                        console.warn(\"failed to load library \" + url);\n",
       "                        };\n",
       "                      document.getElementsByTagName(\"head\")[0].appendChild(s);\n",
       "                };\n",
       "                var vincent_event = new CustomEvent(\n",
       "                  \"vincent_libs_loaded\",\n",
       "                  {bubbles: true, cancelable: true}\n",
       "                );\n",
       "                \n",
       "               function load_all_libs(){\n",
       "                  console.log('Loading Vincent libs...')\n",
       "                  vct_load_lib('http://d3js.org/d3.v3.min.js', function(){\n",
       "                  vct_load_lib('http://d3js.org/d3.geo.projection.v0.min.js', function(){\n",
       "                  vct_load_lib('http://wrobstory.github.io/d3-cloud/d3.layout.cloud.js', function(){\n",
       "                  vct_load_lib('http://wrobstory.github.io/vega/vega.v1.3.3.js', function(){\n",
       "                  window.dispatchEvent(vincent_event);\n",
       "                  });\n",
       "                  });\n",
       "                  });\n",
       "                  });\n",
       "               };\n",
       "               if(typeof define === \"function\" && define.amd){\n",
       "                    if (window['d3'] === undefined ||\n",
       "                        window['topojson'] === undefined){\n",
       "                        require.config(\n",
       "                            {paths: {\n",
       "                              d3: 'http://d3js.org/d3.v3.min',\n",
       "                              topojson: 'http://d3js.org/topojson.v1.min'\n",
       "                              }\n",
       "                            }\n",
       "                          );\n",
       "                        require([\"d3\"], function(d3){\n",
       "                            console.log('Loading Vincent from require.js...')\n",
       "                            window.d3 = d3;\n",
       "                            require([\"topojson\"], function(topojson){\n",
       "                                window.topojson = topojson;\n",
       "                                load_all_libs();\n",
       "                            });\n",
       "                        });\n",
       "                    } else {\n",
       "                        load_all_libs();\n",
       "                    };\n",
       "               }else{\n",
       "                    console.log('Require.js not found, loading manually...')\n",
       "                    load_all_libs();\n",
       "               };\n",
       "\n",
       "           </script>"
      ],
      "text/plain": [
       "<IPython.core.display.HTML object>"
      ]
     },
     "metadata": {},
     "output_type": "display_data"
    },
    {
     "data": {
      "text/html": [
       "<div id=\"viscb80737eb6794f2f9cd8e7baa75307c9\"></div>\n",
       "<script>\n",
       "   ( function() {\n",
       "     var _do_plot = function() {\n",
       "       if (typeof vg === 'undefined') {\n",
       "         window.addEventListener('vincent_libs_loaded', _do_plot)\n",
       "         return;\n",
       "       }\n",
       "       vg.parse.spec({\"axes\": [], \"data\": [{\"name\": \"table\", \"values\": [{\"x\": \"Alabama\", \"y\": 22.0}, {\"x\": \"Alaska\", \"y\": 14.2}, {\"x\": \"Arizona\", \"y\": 16.7}, {\"x\": \"Arkansas\", \"y\": 23.7}, {\"x\": \"California\", \"y\": 13.5}, {\"x\": \"Colorado\", \"y\": 18.5}, {\"x\": \"Connecticut\", \"y\": 15.9}, {\"x\": \"Delaware\", \"y\": 16.6}, {\"x\": \"District of Columbia\", \"y\": 16.7}, {\"x\": \"Florida\", \"y\": 14.2}, {\"x\": \"Georgia\", \"y\": 16.6}, {\"x\": \"Hawaii\", \"y\": 12.1}, {\"x\": \"Idaho\", \"y\": 15.2}, {\"x\": \"Illinois\", \"y\": 16.5}, {\"x\": \"Indiana\", \"y\": 15.9}, {\"x\": \"Iowa\", \"y\": 14.8}, {\"x\": \"Kansas\", \"y\": 16.5}, {\"x\": \"Kentucky\", \"y\": 23.2}, {\"x\": \"Louisiana\", \"y\": 19.9}, {\"x\": \"Maine\", \"y\": 21.1}, {\"x\": \"Maryland\", \"y\": 15.4}, {\"x\": \"Massachusetts\", \"y\": 18.7}, {\"x\": \"Michigan\", \"y\": 22.0}, {\"x\": \"Minnesota\", \"y\": 17.2}, {\"x\": \"Mississippi\", \"y\": 18.8}, {\"x\": \"Missouri\", \"y\": 21.7}, {\"x\": \"Montana\", \"y\": 19.5}, {\"x\": \"Nebraska\", \"y\": 17.8}, {\"x\": \"Nevada\", \"y\": 17.2}, {\"x\": \"New Hampshire\", \"y\": 22.1}, {\"x\": \"New Jersey\", \"y\": 12.2}, {\"x\": \"New Mexico\", \"y\": 18.3}, {\"x\": \"New York\", \"y\": 11.7}, {\"x\": \"North Carolina\", \"y\": 18.3}, {\"x\": \"North Dakota\", \"y\": 15.0}, {\"x\": \"Ohio\", \"y\": 17.4}, {\"x\": \"Oklahoma\", \"y\": 22.0}, {\"x\": \"Oregon\", \"y\": 25.0}, {\"x\": \"Pennsylvania\", \"y\": 18.7}, {\"x\": \"Rhode Island\", \"y\": 22.3}, {\"x\": \"South Carolina\", \"y\": 20.5}, {\"x\": \"South Dakota\", \"y\": 15.7}, {\"x\": \"Tennessee\", \"y\": 21.1}, {\"x\": \"Texas\", \"y\": 12.5}, {\"x\": \"Utah\", \"y\": 21.5}, {\"x\": \"Vermont\", \"y\": 22.2}, {\"x\": \"Virginia\", \"y\": 15.9}, {\"x\": \"Washington\", \"y\": 21.0}, {\"x\": \"West Virginia\", \"y\": 23.8}, {\"x\": \"Wisconsin\", \"y\": 16.7}, {\"x\": \"Wyoming\", \"y\": 15.5}, {\"x\": \"Guam\", \"y\": 8.3}, {\"x\": \"Puerto Rico\", \"y\": 18.2}, {\"x\": \"Virgin Islands\", \"y\": 5.8}]}, {\"format\": {\"feature\": \"us_states.geo\", \"type\": \"topojson\"}, \"name\": \"states\", \"transform\": [{\"as\": \"value\", \"default\": \"noval\", \"key\": \"data.properties.NAME\", \"type\": \"zip\", \"with\": \"table\", \"withKey\": \"data.x\"}, {\"test\": \"d.path!='noval' && d.value!='noval'\", \"type\": \"filter\"}, {\"projection\": \"albersUsa\", \"scale\": 1000, \"translate\": [480.0, 250.0], \"type\": \"geopath\", \"value\": \"data\"}], \"url\": \"https://raw.githubusercontent.com/wrobstory/vincent_map_data/master/us_states.topo.json\"}], \"height\": 500, \"legends\": [{\"fill\": \"color\", \"offset\": 0, \"properties\": {}, \"title\": \"Crude prevalence depression 2016 (%)\"}], \"marks\": [{\"from\": {\"data\": \"states\"}, \"properties\": {\"enter\": {\"path\": {\"field\": \"path\"}, \"stroke\": {\"value\": \"#000000\"}}, \"update\": {\"fill\": {\"field\": \"value.data.y\", \"scale\": \"color\"}}}, \"type\": \"path\"}], \"padding\": \"auto\", \"scales\": [{\"domain\": [0, 9, 12, 15, 18, 21, 24, 27], \"name\": \"color\", \"range\": [\"#ffffd9\", \"#edf8b1\", \"#c7e9b4\", \"#7fcdbb\", \"#41b6c4\", \"#1d91c0\", \"#225ea8\", \"#253494\", \"#081d58\"], \"type\": \"threshold\"}], \"width\": 960}, function(chart) {\n",
       "         chart({el: \"#viscb80737eb6794f2f9cd8e7baa75307c9\"}).update();\n",
       "       });\n",
       "     };\n",
       "     _do_plot();\n",
       "   })();\n",
       "</script>\n",
       "<style>.vega canvas {width: 100%;}</style>\n",
       "        "
      ],
      "text/plain": [
       "<IPython.core.display.HTML object>"
      ]
     },
     "metadata": {},
     "output_type": "display_data"
    }
   ],
   "source": [
    "for y in years:\n",
    "    routine_map(truth_c, y)"
   ]
  },
  {
   "cell_type": "code",
   "execution_count": 14,
   "metadata": {
    "collapsed": false
   },
   "outputs": [],
   "source": [
    "class Prevalence:\n",
    "    '''\n",
    "    class to extract prevalence\n",
    "    '''\n",
    "    def __init__(self):\n",
    "        self.ground_truth = [\"AgeAdjusted\", \"Crude\"]\n",
    "        self.topics = {\"arthritis\": [\"05\", \"_DRDXAR1\"], \"depression\": [\"17\", \"ADDEPEV2\", [2011, 2012, 2013, 2014, 2015, 2016]]}\n",
    "        \n",
    "    def retrieve_prevalence(self, disease=\"depression\", p=\"c\"):\n",
    "        \n",
    "        data_tot=pd.DataFrame()\n",
    "        topic=self.topics[disease][0]\n",
    "        code=self.topics[disease][1]\n",
    "        years=self.topics[disease][2]\n",
    "        if p == \"c\":\n",
    "            value=self.ground_truth[1]\n",
    "        else:\n",
    "            value=self.ground_truth[0]\n",
    "        \n",
    "        for year in years:\n",
    "            print(year)\n",
    "            query=\"https://nccd.cdc.gov/BRFSSPrevalence/rdPage.aspx?rdReport=DPH_BRFSS.ExportData&DataType=StatesAndMMSA&ClassCode=CLASS03&TopicCode=TOPIC\"\\\n",
    "            + str(topic) + \"&StratTypeCode=CAT1&StratCode=&LocationCode=&IndicatorCode=\" \\\n",
    "            + code +\"&ResponseCode=RESP046&QueryType=Chart&YearStart=\" \\\n",
    "            + str(year) + \"&YearEnd=&DataValueType=\"\\\n",
    "            + str(value) + \"&ShowMMSA=false&rdReportFormat=CSV&rdExportTableID=dtExport&rdExportFilename=ExportCSV\"\n",
    "            \n",
    "            data_temp=self.routine(query)\n",
    "            data_tot=pd.concat([data_tot, data_temp], axis=0)\n",
    "        return data_tot\n",
    "        \n",
    "    def routine(self, query):\n",
    "        r=requests.get(query)\n",
    "        data=r.text.split(\"\\r\\n\")\n",
    "        for r in range(len(data)):\n",
    "            x=data[r].split(\",\")\n",
    "            data[r] = [i.strip(\"\\\"\") for i in x[:28]]\n",
    "        data_df=pd.DataFrame(data[3:54], columns=data[0])\n",
    "        data_df=data_df[[\"LocationDesc\", \"Data_Value\", \"Year\"]]\n",
    "        return data_df"
   ]
  },
  {
   "cell_type": "code",
   "execution_count": null,
   "metadata": {
    "collapsed": true
   },
   "outputs": [],
   "source": [
    "prevalence=Prevalence()"
   ]
  },
  {
   "cell_type": "code",
   "execution_count": null,
   "metadata": {
    "collapsed": false,
    "scrolled": false
   },
   "outputs": [],
   "source": [
    "data_df=prevalence.retrieve_prevalence()"
   ]
  },
  {
   "cell_type": "markdown",
   "metadata": {},
   "source": [
    "## generate features with Google Trends"
   ]
  },
  {
   "cell_type": "code",
   "execution_count": 21,
   "metadata": {
    "collapsed": true
   },
   "outputs": [],
   "source": [
    "class Trends:\n",
    "    '''\n",
    "    build the features matrix using google trends data\n",
    "    '''\n",
    "    \n",
    "    def __init__(self, parser, index, features=[], explored=set(), years=[2011, 2012, 2013, 2014, 2015, 2016]):\n",
    "        \n",
    "        self.index = index\n",
    "        self.years = years\n",
    "        self.parser = parser\n",
    "        self.features = features\n",
    "        self.explored = explored\n",
    "        self.matrix_features={}\n",
    "        self.matrix_df=pd.DataFrame()\n",
    "        \n",
    "    def getFeatures(self):\n",
    "        return self.features\n",
    "    def getExplored(self):\n",
    "        return self.explored\n",
    "    def getMatrix_df(self):\n",
    "        return self.matrix_df\n",
    "    \n",
    "    def routine_features(self, text):\n",
    "        \n",
    "        text = [i[0]+\" \" for i in text]\n",
    "        text = ''.join(text)\n",
    "        for token in self.parser(text):\n",
    "            #print(token.text, token.pos_)\n",
    "            if token.pos_ == \"NOUN\":\n",
    "                #print(token.text, token.pos_)\n",
    "                self.features.append(token.text)\n",
    "        self.features=list(set(self.features))\n",
    "        \n",
    "    def build_features(self, queries=[\"depression\"], n=150):\n",
    "        \n",
    "        '''generate a list of n nouns related with the initial queries'''\n",
    "\n",
    "        queue = Queue()\n",
    "        #explored=set()\n",
    "        for q in queries:\n",
    "            if q not in self.explored:\n",
    "                queue.put(q)\n",
    "\n",
    "        while (len(self.features) < n) and (not queue.empty()):\n",
    "            q=queue.get()\n",
    "            self.explored.add(q)\n",
    "            print(q)\n",
    "            pytrends = TrendReq(hl='en-US', tz=360)\n",
    "            ## cat  46 health\n",
    "            pytrends.build_payload([q], cat=45, timeframe='today 5-y', geo='US', gprop='')\n",
    "            related_queries=pytrends.related_queries()\n",
    "            keys=related_queries[q].keys()\n",
    "\n",
    "            for k in keys:\n",
    "                text = related_queries[q][k].values\n",
    "                self.routine_features(text)\n",
    "                temp=set(self.features)\n",
    "                temp=temp.difference(self.explored)\n",
    "                temp=list(temp)\n",
    "                for f in temp:\n",
    "                    ## just to be safer\n",
    "                    if f not in self.explored:\n",
    "                        queue.put(f)\n",
    "            time.sleep(10)\n",
    "\n",
    "        self.features = list(set(self.features + queries))\n",
    "        \n",
    "    def build_matrix(self):\n",
    "        \n",
    "        '''compute the google trend for every feature and every year'''\n",
    "        \n",
    "        self.matrix_features = {f:[] for f in self.features}\n",
    "        self.matrix_features[\"year\"] = []\n",
    "        pytrends = TrendReq(hl='en-US', tz=360)\n",
    "        for year in self.years:\n",
    "            print(year)\n",
    "            for f in self.features:\n",
    "                pytrends.build_payload([f], cat=0, timeframe=str(year) + \"-01-01 \" + str(year+1) + \"-12-31\", geo='US', gprop='')\n",
    "                x = pytrends.interest_by_region(resolution='COUNTRY').values\n",
    "                x = [i[0] for i in x]\n",
    "                if len(x) == len(self.index):\n",
    "                    self.matrix_features[f].extend(x[:])\n",
    "                else:\n",
    "                    self.matrix_features[f].extend([None for _ in range(len(self.index))])\n",
    "            self.matrix_features[\"year\"].extend([year for _ in range(len(self.index))])\n",
    "            time.sleep(10)\n",
    "\n",
    "        index_all=[]\n",
    "        for y in self.years:\n",
    "            index_all.extend(self.index)\n",
    "\n",
    "        self.matrix_df = pd.DataFrame(self.matrix_features, index=index_all)"
   ]
  },
  {
   "cell_type": "code",
   "execution_count": 16,
   "metadata": {
    "collapsed": true
   },
   "outputs": [],
   "source": [
    "parser = spacy.load('en')"
   ]
  },
  {
   "cell_type": "code",
   "execution_count": 17,
   "metadata": {
    "collapsed": false
   },
   "outputs": [],
   "source": [
    "queries=list(pd.read_csv(\"./queries.csv\", sep=\";\", header=None).values[0])"
   ]
  },
  {
   "cell_type": "markdown",
   "metadata": {},
   "source": [
    "# The choice of the terms was based on the idea that we should take into account not only directly associated terms (such as depression itself) but also some similar conditions (panic attacks), symptoms (anxiety), drugs (prozac). Moreover, to get not only positively correlated features we also chose some positive terms such as happiness, family, and friends."
   ]
  },
  {
   "cell_type": "code",
   "execution_count": 18,
   "metadata": {
    "collapsed": false
   },
   "outputs": [
    {
     "data": {
      "text/plain": [
       "['depression',\n",
       " 'anxiety',\n",
       " 'panic',\n",
       " 'friends',\n",
       " 'family',\n",
       " 'psychology',\n",
       " 'prozac',\n",
       " 'happiness']"
      ]
     },
     "execution_count": 18,
     "metadata": {},
     "output_type": "execute_result"
    }
   ],
   "source": [
    "queries"
   ]
  },
  {
   "cell_type": "code",
   "execution_count": 22,
   "metadata": {
    "collapsed": true
   },
   "outputs": [],
   "source": [
    "trends=Trends(parser, index)"
   ]
  },
  {
   "cell_type": "markdown",
   "metadata": {},
   "source": [
    "### generate list of features"
   ]
  },
  {
   "cell_type": "code",
   "execution_count": 23,
   "metadata": {
    "collapsed": false
   },
   "outputs": [
    {
     "name": "stdout",
     "output_type": "stream",
     "text": [
      "depression\n",
      "anxiety\n",
      "panic\n",
      "friends\n",
      "family\n",
      "psychology\n",
      "prozac\n"
     ]
    }
   ],
   "source": [
    "trends.build_features(queries)"
   ]
  },
  {
   "cell_type": "code",
   "execution_count": 24,
   "metadata": {
    "collapsed": false
   },
   "outputs": [
    {
     "data": {
      "text/plain": [
       "162"
      ]
     },
     "execution_count": 24,
     "metadata": {},
     "output_type": "execute_result"
    }
   ],
   "source": [
    "len(trends.features)"
   ]
  },
  {
   "cell_type": "markdown",
   "metadata": {},
   "source": [
    "### build features matrix"
   ]
  },
  {
   "cell_type": "code",
   "execution_count": 25,
   "metadata": {
    "collapsed": false
   },
   "outputs": [
    {
     "name": "stdout",
     "output_type": "stream",
     "text": [
      "2011\n",
      "2012\n",
      "2013\n",
      "2014\n",
      "2015\n",
      "2016\n"
     ]
    }
   ],
   "source": [
    "trends.build_matrix()"
   ]
  },
  {
   "cell_type": "code",
   "execution_count": 27,
   "metadata": {
    "collapsed": false,
    "scrolled": true
   },
   "outputs": [
    {
     "data": {
      "text/plain": [
       "(306, 163)"
      ]
     },
     "execution_count": 27,
     "metadata": {},
     "output_type": "execute_result"
    }
   ],
   "source": [
    "trends.getMatrix_df().shape"
   ]
  },
  {
   "cell_type": "code",
   "execution_count": 79,
   "metadata": {
    "collapsed": true
   },
   "outputs": [],
   "source": [
    "matrix_df=trends.getMatrix_df()\n",
    "features=trends.getFeatures()\n",
    "explored=trends.getExplored()"
   ]
  },
  {
   "cell_type": "markdown",
   "metadata": {},
   "source": [
    "### add crude and adjusted prevalence to the matrix data"
   ]
  },
  {
   "cell_type": "code",
   "execution_count": 80,
   "metadata": {
    "collapsed": true
   },
   "outputs": [],
   "source": [
    "matrix_df[\"prevalence_a\"] = y_a\n",
    "matrix_df[\"prevalence_c\"] = y_c"
   ]
  },
  {
   "cell_type": "markdown",
   "metadata": {},
   "source": [
    "## process income and insurance "
   ]
  },
  {
   "cell_type": "code",
   "execution_count": 98,
   "metadata": {
    "collapsed": true
   },
   "outputs": [],
   "source": [
    "def process_data():\n",
    "    '''\n",
    "    process income, unemployment, insurance and position data\n",
    "    '''\n",
    "    \n",
    "    position=\"../data/positions.csv\"\n",
    "    income=\"../data/income/income_clean.csv\"\n",
    "    insurance=\"../data/insurance/insurance_clean.csv\"\n",
    "    unemployment=\"../data/unemployment/unemployment.csv\"\n",
    "    position_df=pd.read_csv(position)\n",
    "    unemployment_df=pd.read_csv(unemployment)\n",
    "    insurance_df=pd.read_csv(insurance, index_col=0)\n",
    "    income_df=pd.read_csv(income, index_col=0, header=None)\n",
    "    \n",
    "    insurance_df[\"2012\"] = None\n",
    "    insurance_df[\"2011\"] = None\n",
    "    insurance_df=insurance_df[[\"2011\", \"2012\", \"2013\", \"2014\", \"2015\", \"2016\"]]\n",
    "    \n",
    "    years_all = [i for i in range(2016, 1999, -1)]\n",
    "    cols=[]\n",
    "    for i in years_all:\n",
    "        cols.append(\"median_\"+str(i))\n",
    "        cols.append(\"st_\"+str(i))\n",
    "    \n",
    "    income_df=pd.DataFrame(income_df.values, index=income_df.index, columns=cols)\n",
    "    return insurance_df, income_df, unemployment_df, position_df\n",
    "\n",
    "def update_matrix(insurance_df, income_df, unemployment_df, position_df, matrix_df):\n",
    "    '''\n",
    "    update with census data, index states and insurance rate\n",
    "    '''\n",
    "    insurance=pd.Series()\n",
    "    income=pd.Series()\n",
    "    index=list(set(matrix_df.index))\n",
    "    index_states=[i for i in range(len(index))]\n",
    "    index_states_all=[]\n",
    "    for y in years:\n",
    "        insurance = pd.concat([insurance, insurance_df[str(y)]], axis=0)\n",
    "        income = pd.concat([income, income_df[\"median_\" + str(y)]], axis=0)\n",
    "        index_states_all = index_states_all + index_states\n",
    "    \n",
    "    # update matrix\n",
    "    matrix_df[\"states\"] = index_states_all\n",
    "    matrix_df[\"income\"] = income.values\n",
    "    matrix_df[\"insurance\"] = insurance.values\n",
    "    matrix_df[\"unemployment\"] = unemployment[\"Rate\"].values\n",
    "    matrix_df[\"latitude\"] = position_df[\"Latitude\"].values\n",
    "    matrix_df[\"longitude\"] = position_df[\"Longitude\"].values\n",
    "    \n",
    "    # remove features with more that 200 nan\n",
    "    remove=list(matrix_df.columns[matrix_df.isnull().sum()>200])\n",
    "    matrix_df.drop(remove, axis=1, inplace=True)\n",
    "    \n",
    "    return matrix_df"
   ]
  },
  {
   "cell_type": "code",
   "execution_count": 101,
   "metadata": {
    "collapsed": false
   },
   "outputs": [],
   "source": [
    "insurance_df, income_df, unemployment_df, position_df = process_data()\n",
    "\n",
    "matrix_df=update_matrix(insurance_df, income_df, unemployment_df, position_df, matrix_df)"
   ]
  },
  {
   "cell_type": "code",
   "execution_count": 102,
   "metadata": {
    "collapsed": false
   },
   "outputs": [
    {
     "data": {
      "text/plain": [
       "(306, 163)"
      ]
     },
     "execution_count": 102,
     "metadata": {},
     "output_type": "execute_result"
    }
   ],
   "source": [
    "matrix_df.shape"
   ]
  },
  {
   "cell_type": "code",
   "execution_count": 103,
   "metadata": {
    "collapsed": false,
    "scrolled": true
   },
   "outputs": [
    {
     "data": {
      "text/html": [
       "<div>\n",
       "<table border=\"1\" class=\"dataframe\">\n",
       "  <thead>\n",
       "    <tr style=\"text-align: right;\">\n",
       "      <th></th>\n",
       "      <th>addiction</th>\n",
       "      <th>alcohol</th>\n",
       "      <th>america</th>\n",
       "      <th>animal</th>\n",
       "      <th>antidepressants</th>\n",
       "      <th>anxiety</th>\n",
       "      <th>app</th>\n",
       "      <th>ashwagandha</th>\n",
       "      <th>association</th>\n",
       "      <th>attack</th>\n",
       "      <th>...</th>\n",
       "      <th>years</th>\n",
       "      <th>zoloft</th>\n",
       "      <th>prevalence_a</th>\n",
       "      <th>prevalence_c</th>\n",
       "      <th>income</th>\n",
       "      <th>insurance</th>\n",
       "      <th>unemployment</th>\n",
       "      <th>states</th>\n",
       "      <th>latitude</th>\n",
       "      <th>longitude</th>\n",
       "    </tr>\n",
       "  </thead>\n",
       "  <tbody>\n",
       "    <tr>\n",
       "      <th>Alabama</th>\n",
       "      <td>72</td>\n",
       "      <td>76</td>\n",
       "      <td>45</td>\n",
       "      <td>73</td>\n",
       "      <td>85</td>\n",
       "      <td>76</td>\n",
       "      <td>84</td>\n",
       "      <td>48</td>\n",
       "      <td>65</td>\n",
       "      <td>87</td>\n",
       "      <td>...</td>\n",
       "      <td>91</td>\n",
       "      <td>79</td>\n",
       "      <td>21.1</td>\n",
       "      <td>21.2</td>\n",
       "      <td>42590</td>\n",
       "      <td>None</td>\n",
       "      <td>NaN</td>\n",
       "      <td>0</td>\n",
       "      <td>32.806671</td>\n",
       "      <td>-86.791130</td>\n",
       "    </tr>\n",
       "    <tr>\n",
       "      <th>Alaska</th>\n",
       "      <td>74</td>\n",
       "      <td>93</td>\n",
       "      <td>65</td>\n",
       "      <td>83</td>\n",
       "      <td>68</td>\n",
       "      <td>71</td>\n",
       "      <td>75</td>\n",
       "      <td>69</td>\n",
       "      <td>94</td>\n",
       "      <td>95</td>\n",
       "      <td>...</td>\n",
       "      <td>82</td>\n",
       "      <td>53</td>\n",
       "      <td>16.5</td>\n",
       "      <td>16.5</td>\n",
       "      <td>57431</td>\n",
       "      <td>None</td>\n",
       "      <td>NaN</td>\n",
       "      <td>1</td>\n",
       "      <td>61.370716</td>\n",
       "      <td>-152.404419</td>\n",
       "    </tr>\n",
       "    <tr>\n",
       "      <th>Arizona</th>\n",
       "      <td>76</td>\n",
       "      <td>77</td>\n",
       "      <td>84</td>\n",
       "      <td>71</td>\n",
       "      <td>71</td>\n",
       "      <td>78</td>\n",
       "      <td>81</td>\n",
       "      <td>98</td>\n",
       "      <td>51</td>\n",
       "      <td>85</td>\n",
       "      <td>...</td>\n",
       "      <td>86</td>\n",
       "      <td>64</td>\n",
       "      <td>17.3</td>\n",
       "      <td>17.5</td>\n",
       "      <td>48621</td>\n",
       "      <td>None</td>\n",
       "      <td>NaN</td>\n",
       "      <td>2</td>\n",
       "      <td>33.729759</td>\n",
       "      <td>-111.431221</td>\n",
       "    </tr>\n",
       "    <tr>\n",
       "      <th>Arkansas</th>\n",
       "      <td>73</td>\n",
       "      <td>73</td>\n",
       "      <td>62</td>\n",
       "      <td>73</td>\n",
       "      <td>82</td>\n",
       "      <td>79</td>\n",
       "      <td>83</td>\n",
       "      <td>51</td>\n",
       "      <td>74</td>\n",
       "      <td>84</td>\n",
       "      <td>...</td>\n",
       "      <td>89</td>\n",
       "      <td>77</td>\n",
       "      <td>22.9</td>\n",
       "      <td>22.8</td>\n",
       "      <td>41302</td>\n",
       "      <td>None</td>\n",
       "      <td>NaN</td>\n",
       "      <td>3</td>\n",
       "      <td>34.969704</td>\n",
       "      <td>-92.373123</td>\n",
       "    </tr>\n",
       "    <tr>\n",
       "      <th>California</th>\n",
       "      <td>64</td>\n",
       "      <td>77</td>\n",
       "      <td>88</td>\n",
       "      <td>64</td>\n",
       "      <td>56</td>\n",
       "      <td>68</td>\n",
       "      <td>91</td>\n",
       "      <td>62</td>\n",
       "      <td>40</td>\n",
       "      <td>78</td>\n",
       "      <td>...</td>\n",
       "      <td>84</td>\n",
       "      <td>49</td>\n",
       "      <td>12.1</td>\n",
       "      <td>12.3</td>\n",
       "      <td>53367</td>\n",
       "      <td>None</td>\n",
       "      <td>NaN</td>\n",
       "      <td>4</td>\n",
       "      <td>36.116203</td>\n",
       "      <td>-119.681564</td>\n",
       "    </tr>\n",
       "  </tbody>\n",
       "</table>\n",
       "<p>5 rows × 163 columns</p>\n",
       "</div>"
      ],
      "text/plain": [
       "            addiction  alcohol  america  animal  antidepressants  anxiety  \\\n",
       "Alabama            72       76       45      73               85       76   \n",
       "Alaska             74       93       65      83               68       71   \n",
       "Arizona            76       77       84      71               71       78   \n",
       "Arkansas           73       73       62      73               82       79   \n",
       "California         64       77       88      64               56       68   \n",
       "\n",
       "            app  ashwagandha  association  attack     ...      years  zoloft  \\\n",
       "Alabama      84           48           65      87     ...         91      79   \n",
       "Alaska       75           69           94      95     ...         82      53   \n",
       "Arizona      81           98           51      85     ...         86      64   \n",
       "Arkansas     83           51           74      84     ...         89      77   \n",
       "California   91           62           40      78     ...         84      49   \n",
       "\n",
       "            prevalence_a  prevalence_c  income  insurance  unemployment  \\\n",
       "Alabama             21.1          21.2   42590       None           NaN   \n",
       "Alaska              16.5          16.5   57431       None           NaN   \n",
       "Arizona             17.3          17.5   48621       None           NaN   \n",
       "Arkansas            22.9          22.8   41302       None           NaN   \n",
       "California          12.1          12.3   53367       None           NaN   \n",
       "\n",
       "            states   latitude   longitude  \n",
       "Alabama          0  32.806671  -86.791130  \n",
       "Alaska           1  61.370716 -152.404419  \n",
       "Arizona          2  33.729759 -111.431221  \n",
       "Arkansas         3  34.969704  -92.373123  \n",
       "California       4  36.116203 -119.681564  \n",
       "\n",
       "[5 rows x 163 columns]"
      ]
     },
     "execution_count": 103,
     "metadata": {},
     "output_type": "execute_result"
    }
   ],
   "source": [
    "matrix_df.head()"
   ]
  }
 ],
 "metadata": {
  "anaconda-cloud": {},
  "kernelspec": {
   "display_name": "Python [default]",
   "language": "python",
   "name": "python3"
  },
  "language_info": {
   "codemirror_mode": {
    "name": "ipython",
    "version": 3
   },
   "file_extension": ".py",
   "mimetype": "text/x-python",
   "name": "python",
   "nbconvert_exporter": "python",
   "pygments_lexer": "ipython3",
   "version": "3.5.4"
  }
 },
 "nbformat": 4,
 "nbformat_minor": 1
}
